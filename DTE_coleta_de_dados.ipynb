{
  "nbformat": 4,
  "nbformat_minor": 0,
  "metadata": {
    "colab": {
      "name": "DTE_coleta de dados.ipynb",
      "provenance": [],
      "collapsed_sections": [],
      "authorship_tag": "ABX9TyP8Am17vz4wAfMBTIa2ZL5n",
      "include_colab_link": true
    },
    "kernelspec": {
      "name": "python3",
      "display_name": "Python 3"
    },
    "language_info": {
      "name": "python"
    }
  },
  "cells": [
    {
      "cell_type": "markdown",
      "metadata": {
        "id": "view-in-github",
        "colab_type": "text"
      },
      "source": [
        "<a href=\"https://colab.research.google.com/github/LucianaPeroni/Data-Twitter-Eleicoes-2022/blob/main/DTE_coleta_de_dados.ipynb\" target=\"_parent\"><img src=\"https://colab.research.google.com/assets/colab-badge.svg\" alt=\"Open In Colab\"/></a>"
      ]
    },
    {
      "cell_type": "markdown",
      "source": [
        "## Etapa 2 - Coleta de dados"
      ],
      "metadata": {
        "id": "zgWabAQbeG3e"
      }
    },
    {
      "cell_type": "markdown",
      "source": [
        "Intalação de bibliotecas"
      ],
      "metadata": {
        "id": "G3paQBmUebDJ"
      }
    },
    {
      "cell_type": "code",
      "source": [
        "pip install snscrape"
      ],
      "metadata": {
        "colab": {
          "base_uri": "https://localhost:8080/"
        },
        "id": "0mXiaMDteNJS",
        "outputId": "3f491723-c47d-4a4f-b979-72ccf9deee9d"
      },
      "execution_count": 25,
      "outputs": [
        {
          "output_type": "stream",
          "name": "stdout",
          "text": [
            "Looking in indexes: https://pypi.org/simple, https://us-python.pkg.dev/colab-wheels/public/simple/\n",
            "Requirement already satisfied: snscrape in /usr/local/lib/python3.7/dist-packages (0.3.4)\n",
            "Requirement already satisfied: lxml in /usr/local/lib/python3.7/dist-packages (from snscrape) (4.2.6)\n",
            "Requirement already satisfied: beautifulsoup4 in /usr/local/lib/python3.7/dist-packages (from snscrape) (4.6.3)\n",
            "Requirement already satisfied: requests[socks] in /usr/local/lib/python3.7/dist-packages (from snscrape) (2.23.0)\n",
            "Requirement already satisfied: chardet<4,>=3.0.2 in /usr/local/lib/python3.7/dist-packages (from requests[socks]->snscrape) (3.0.4)\n",
            "Requirement already satisfied: urllib3!=1.25.0,!=1.25.1,<1.26,>=1.21.1 in /usr/local/lib/python3.7/dist-packages (from requests[socks]->snscrape) (1.24.3)\n",
            "Requirement already satisfied: certifi>=2017.4.17 in /usr/local/lib/python3.7/dist-packages (from requests[socks]->snscrape) (2022.6.15)\n",
            "Requirement already satisfied: idna<3,>=2.5 in /usr/local/lib/python3.7/dist-packages (from requests[socks]->snscrape) (2.10)\n",
            "Requirement already satisfied: PySocks!=1.5.7,>=1.5.6 in /usr/local/lib/python3.7/dist-packages (from requests[socks]->snscrape) (1.7.1)\n"
          ]
        }
      ]
    },
    {
      "cell_type": "markdown",
      "source": [
        "Library"
      ],
      "metadata": {
        "id": "zFOXb5-2fPHO"
      }
    },
    {
      "cell_type": "code",
      "source": [
        "import pandas as pd"
      ],
      "metadata": {
        "id": "IKArRrqpfRyO"
      },
      "execution_count": 26,
      "outputs": []
    },
    {
      "cell_type": "code",
      "source": [
        "import snscrape.modules.twitter as snstwitter"
      ],
      "metadata": {
        "id": "ztvXQEThfYrF"
      },
      "execution_count": 27,
      "outputs": []
    },
    {
      "cell_type": "code",
      "source": [
        "maximo_tweets= 150"
      ],
      "metadata": {
        "id": "BkeReQFWf4VO"
      },
      "execution_count": 28,
      "outputs": []
    },
    {
      "cell_type": "markdown",
      "source": [
        "Análise candidato Lula"
      ],
      "metadata": {
        "id": "4Y4m0YcMf2gv"
      }
    },
    {
      "cell_type": "code",
      "source": [
        "lista_tweets_lula=[]"
      ],
      "metadata": {
        "id": "fRTkhF3HgIXV"
      },
      "execution_count": 29,
      "outputs": []
    },
    {
      "cell_type": "code",
      "source": [
        "for i, tweet in enumerate(snstwitter.TwitterSearchScraper(['lula']).get_items()):\n",
        "  if i> maximo_tweets:\n",
        "    break\n",
        "  lista_tweets_lula.append([tweet.date,tweet.id, tweet.content])"
      ],
      "metadata": {
        "id": "seiZQxZ-nWJQ"
      },
      "execution_count": 30,
      "outputs": []
    },
    {
      "cell_type": "code",
      "source": [
        "type (lista_tweets_lula)"
      ],
      "metadata": {
        "colab": {
          "base_uri": "https://localhost:8080/"
        },
        "id": "4wZb1Guko5qX",
        "outputId": "9100a560-fe8e-4f05-fa14-d61a5b407af4"
      },
      "execution_count": 31,
      "outputs": [
        {
          "output_type": "execute_result",
          "data": {
            "text/plain": [
              "list"
            ]
          },
          "metadata": {},
          "execution_count": 31
        }
      ]
    },
    {
      "cell_type": "code",
      "source": [
        "dataframe_tweets_lula=pd.DataFrame(lista_tweets_lula,columns=['Data_hora','idTweet','Tweet'])"
      ],
      "metadata": {
        "id": "d5BEys0Apkb5"
      },
      "execution_count": 32,
      "outputs": []
    },
    {
      "cell_type": "code",
      "source": [
        "dataframe_tweets_lula.head()"
      ],
      "metadata": {
        "colab": {
          "base_uri": "https://localhost:8080/",
          "height": 206
        },
        "id": "I6DisbemqV_U",
        "outputId": "43babfab-0ccd-46d1-c751-d59bff8dac73"
      },
      "execution_count": 33,
      "outputs": [
        {
          "output_type": "execute_result",
          "data": {
            "text/plain": [
              "                  Data_hora              idTweet  \\\n",
              "0 2022-07-31 08:41:01+00:00  1553662000097644546   \n",
              "1 2022-07-31 08:40:56+00:00  1553661978626899968   \n",
              "2 2022-07-31 08:40:49+00:00  1553661949694590977   \n",
              "3 2022-07-31 08:40:44+00:00  1553661931575054336   \n",
              "4 2022-07-31 08:40:32+00:00  1553661881889464320   \n",
              "\n",
              "                                               Tweet  \n",
              "0  @brasildefato LULA COMPRADO ALCKEMIN https://t...  \n",
              "1  @senadorhumberto @CamiloSantanaCE @elmanofreit...  \n",
              "2  @LulaOficial PQP o cara tem q ser muito idiota...  \n",
              "3  @kazuhaC1G1P1 HY LULAAA. Kalo gua sukanya film...  \n",
              "4  @Rocha7591 E a do Lula não põe ?? 73.000,00 po...  "
            ],
            "text/html": [
              "\n",
              "  <div id=\"df-5ecc5039-8cc7-4bb8-95d4-54620ea4c6f7\">\n",
              "    <div class=\"colab-df-container\">\n",
              "      <div>\n",
              "<style scoped>\n",
              "    .dataframe tbody tr th:only-of-type {\n",
              "        vertical-align: middle;\n",
              "    }\n",
              "\n",
              "    .dataframe tbody tr th {\n",
              "        vertical-align: top;\n",
              "    }\n",
              "\n",
              "    .dataframe thead th {\n",
              "        text-align: right;\n",
              "    }\n",
              "</style>\n",
              "<table border=\"1\" class=\"dataframe\">\n",
              "  <thead>\n",
              "    <tr style=\"text-align: right;\">\n",
              "      <th></th>\n",
              "      <th>Data_hora</th>\n",
              "      <th>idTweet</th>\n",
              "      <th>Tweet</th>\n",
              "    </tr>\n",
              "  </thead>\n",
              "  <tbody>\n",
              "    <tr>\n",
              "      <th>0</th>\n",
              "      <td>2022-07-31 08:41:01+00:00</td>\n",
              "      <td>1553662000097644546</td>\n",
              "      <td>@brasildefato LULA COMPRADO ALCKEMIN https://t...</td>\n",
              "    </tr>\n",
              "    <tr>\n",
              "      <th>1</th>\n",
              "      <td>2022-07-31 08:40:56+00:00</td>\n",
              "      <td>1553661978626899968</td>\n",
              "      <td>@senadorhumberto @CamiloSantanaCE @elmanofreit...</td>\n",
              "    </tr>\n",
              "    <tr>\n",
              "      <th>2</th>\n",
              "      <td>2022-07-31 08:40:49+00:00</td>\n",
              "      <td>1553661949694590977</td>\n",
              "      <td>@LulaOficial PQP o cara tem q ser muito idiota...</td>\n",
              "    </tr>\n",
              "    <tr>\n",
              "      <th>3</th>\n",
              "      <td>2022-07-31 08:40:44+00:00</td>\n",
              "      <td>1553661931575054336</td>\n",
              "      <td>@kazuhaC1G1P1 HY LULAAA. Kalo gua sukanya film...</td>\n",
              "    </tr>\n",
              "    <tr>\n",
              "      <th>4</th>\n",
              "      <td>2022-07-31 08:40:32+00:00</td>\n",
              "      <td>1553661881889464320</td>\n",
              "      <td>@Rocha7591 E a do Lula não põe ?? 73.000,00 po...</td>\n",
              "    </tr>\n",
              "  </tbody>\n",
              "</table>\n",
              "</div>\n",
              "      <button class=\"colab-df-convert\" onclick=\"convertToInteractive('df-5ecc5039-8cc7-4bb8-95d4-54620ea4c6f7')\"\n",
              "              title=\"Convert this dataframe to an interactive table.\"\n",
              "              style=\"display:none;\">\n",
              "        \n",
              "  <svg xmlns=\"http://www.w3.org/2000/svg\" height=\"24px\"viewBox=\"0 0 24 24\"\n",
              "       width=\"24px\">\n",
              "    <path d=\"M0 0h24v24H0V0z\" fill=\"none\"/>\n",
              "    <path d=\"M18.56 5.44l.94 2.06.94-2.06 2.06-.94-2.06-.94-.94-2.06-.94 2.06-2.06.94zm-11 1L8.5 8.5l.94-2.06 2.06-.94-2.06-.94L8.5 2.5l-.94 2.06-2.06.94zm10 10l.94 2.06.94-2.06 2.06-.94-2.06-.94-.94-2.06-.94 2.06-2.06.94z\"/><path d=\"M17.41 7.96l-1.37-1.37c-.4-.4-.92-.59-1.43-.59-.52 0-1.04.2-1.43.59L10.3 9.45l-7.72 7.72c-.78.78-.78 2.05 0 2.83L4 21.41c.39.39.9.59 1.41.59.51 0 1.02-.2 1.41-.59l7.78-7.78 2.81-2.81c.8-.78.8-2.07 0-2.86zM5.41 20L4 18.59l7.72-7.72 1.47 1.35L5.41 20z\"/>\n",
              "  </svg>\n",
              "      </button>\n",
              "      \n",
              "  <style>\n",
              "    .colab-df-container {\n",
              "      display:flex;\n",
              "      flex-wrap:wrap;\n",
              "      gap: 12px;\n",
              "    }\n",
              "\n",
              "    .colab-df-convert {\n",
              "      background-color: #E8F0FE;\n",
              "      border: none;\n",
              "      border-radius: 50%;\n",
              "      cursor: pointer;\n",
              "      display: none;\n",
              "      fill: #1967D2;\n",
              "      height: 32px;\n",
              "      padding: 0 0 0 0;\n",
              "      width: 32px;\n",
              "    }\n",
              "\n",
              "    .colab-df-convert:hover {\n",
              "      background-color: #E2EBFA;\n",
              "      box-shadow: 0px 1px 2px rgba(60, 64, 67, 0.3), 0px 1px 3px 1px rgba(60, 64, 67, 0.15);\n",
              "      fill: #174EA6;\n",
              "    }\n",
              "\n",
              "    [theme=dark] .colab-df-convert {\n",
              "      background-color: #3B4455;\n",
              "      fill: #D2E3FC;\n",
              "    }\n",
              "\n",
              "    [theme=dark] .colab-df-convert:hover {\n",
              "      background-color: #434B5C;\n",
              "      box-shadow: 0px 1px 3px 1px rgba(0, 0, 0, 0.15);\n",
              "      filter: drop-shadow(0px 1px 2px rgba(0, 0, 0, 0.3));\n",
              "      fill: #FFFFFF;\n",
              "    }\n",
              "  </style>\n",
              "\n",
              "      <script>\n",
              "        const buttonEl =\n",
              "          document.querySelector('#df-5ecc5039-8cc7-4bb8-95d4-54620ea4c6f7 button.colab-df-convert');\n",
              "        buttonEl.style.display =\n",
              "          google.colab.kernel.accessAllowed ? 'block' : 'none';\n",
              "\n",
              "        async function convertToInteractive(key) {\n",
              "          const element = document.querySelector('#df-5ecc5039-8cc7-4bb8-95d4-54620ea4c6f7');\n",
              "          const dataTable =\n",
              "            await google.colab.kernel.invokeFunction('convertToInteractive',\n",
              "                                                     [key], {});\n",
              "          if (!dataTable) return;\n",
              "\n",
              "          const docLinkHtml = 'Like what you see? Visit the ' +\n",
              "            '<a target=\"_blank\" href=https://colab.research.google.com/notebooks/data_table.ipynb>data table notebook</a>'\n",
              "            + ' to learn more about interactive tables.';\n",
              "          element.innerHTML = '';\n",
              "          dataTable['output_type'] = 'display_data';\n",
              "          await google.colab.output.renderOutput(dataTable, element);\n",
              "          const docLink = document.createElement('div');\n",
              "          docLink.innerHTML = docLinkHtml;\n",
              "          element.appendChild(docLink);\n",
              "        }\n",
              "      </script>\n",
              "    </div>\n",
              "  </div>\n",
              "  "
            ]
          },
          "metadata": {},
          "execution_count": 33
        }
      ]
    },
    {
      "cell_type": "code",
      "source": [
        "dataframe_tweets_lula['Candidato']='Lula'"
      ],
      "metadata": {
        "id": "suXZgCPeq4O2"
      },
      "execution_count": 34,
      "outputs": []
    },
    {
      "cell_type": "code",
      "source": [
        "dataframe_tweets_lula.head()"
      ],
      "metadata": {
        "colab": {
          "base_uri": "https://localhost:8080/",
          "height": 206
        },
        "id": "JqnHZK7erGMp",
        "outputId": "ecd64412-ab1d-4b19-91c1-b2d448f3711e"
      },
      "execution_count": 35,
      "outputs": [
        {
          "output_type": "execute_result",
          "data": {
            "text/plain": [
              "                  Data_hora              idTweet  \\\n",
              "0 2022-07-31 08:41:01+00:00  1553662000097644546   \n",
              "1 2022-07-31 08:40:56+00:00  1553661978626899968   \n",
              "2 2022-07-31 08:40:49+00:00  1553661949694590977   \n",
              "3 2022-07-31 08:40:44+00:00  1553661931575054336   \n",
              "4 2022-07-31 08:40:32+00:00  1553661881889464320   \n",
              "\n",
              "                                               Tweet Candidato  \n",
              "0  @brasildefato LULA COMPRADO ALCKEMIN https://t...      Lula  \n",
              "1  @senadorhumberto @CamiloSantanaCE @elmanofreit...      Lula  \n",
              "2  @LulaOficial PQP o cara tem q ser muito idiota...      Lula  \n",
              "3  @kazuhaC1G1P1 HY LULAAA. Kalo gua sukanya film...      Lula  \n",
              "4  @Rocha7591 E a do Lula não põe ?? 73.000,00 po...      Lula  "
            ],
            "text/html": [
              "\n",
              "  <div id=\"df-50121268-56a4-46f5-a35b-898d97d0b8b1\">\n",
              "    <div class=\"colab-df-container\">\n",
              "      <div>\n",
              "<style scoped>\n",
              "    .dataframe tbody tr th:only-of-type {\n",
              "        vertical-align: middle;\n",
              "    }\n",
              "\n",
              "    .dataframe tbody tr th {\n",
              "        vertical-align: top;\n",
              "    }\n",
              "\n",
              "    .dataframe thead th {\n",
              "        text-align: right;\n",
              "    }\n",
              "</style>\n",
              "<table border=\"1\" class=\"dataframe\">\n",
              "  <thead>\n",
              "    <tr style=\"text-align: right;\">\n",
              "      <th></th>\n",
              "      <th>Data_hora</th>\n",
              "      <th>idTweet</th>\n",
              "      <th>Tweet</th>\n",
              "      <th>Candidato</th>\n",
              "    </tr>\n",
              "  </thead>\n",
              "  <tbody>\n",
              "    <tr>\n",
              "      <th>0</th>\n",
              "      <td>2022-07-31 08:41:01+00:00</td>\n",
              "      <td>1553662000097644546</td>\n",
              "      <td>@brasildefato LULA COMPRADO ALCKEMIN https://t...</td>\n",
              "      <td>Lula</td>\n",
              "    </tr>\n",
              "    <tr>\n",
              "      <th>1</th>\n",
              "      <td>2022-07-31 08:40:56+00:00</td>\n",
              "      <td>1553661978626899968</td>\n",
              "      <td>@senadorhumberto @CamiloSantanaCE @elmanofreit...</td>\n",
              "      <td>Lula</td>\n",
              "    </tr>\n",
              "    <tr>\n",
              "      <th>2</th>\n",
              "      <td>2022-07-31 08:40:49+00:00</td>\n",
              "      <td>1553661949694590977</td>\n",
              "      <td>@LulaOficial PQP o cara tem q ser muito idiota...</td>\n",
              "      <td>Lula</td>\n",
              "    </tr>\n",
              "    <tr>\n",
              "      <th>3</th>\n",
              "      <td>2022-07-31 08:40:44+00:00</td>\n",
              "      <td>1553661931575054336</td>\n",
              "      <td>@kazuhaC1G1P1 HY LULAAA. Kalo gua sukanya film...</td>\n",
              "      <td>Lula</td>\n",
              "    </tr>\n",
              "    <tr>\n",
              "      <th>4</th>\n",
              "      <td>2022-07-31 08:40:32+00:00</td>\n",
              "      <td>1553661881889464320</td>\n",
              "      <td>@Rocha7591 E a do Lula não põe ?? 73.000,00 po...</td>\n",
              "      <td>Lula</td>\n",
              "    </tr>\n",
              "  </tbody>\n",
              "</table>\n",
              "</div>\n",
              "      <button class=\"colab-df-convert\" onclick=\"convertToInteractive('df-50121268-56a4-46f5-a35b-898d97d0b8b1')\"\n",
              "              title=\"Convert this dataframe to an interactive table.\"\n",
              "              style=\"display:none;\">\n",
              "        \n",
              "  <svg xmlns=\"http://www.w3.org/2000/svg\" height=\"24px\"viewBox=\"0 0 24 24\"\n",
              "       width=\"24px\">\n",
              "    <path d=\"M0 0h24v24H0V0z\" fill=\"none\"/>\n",
              "    <path d=\"M18.56 5.44l.94 2.06.94-2.06 2.06-.94-2.06-.94-.94-2.06-.94 2.06-2.06.94zm-11 1L8.5 8.5l.94-2.06 2.06-.94-2.06-.94L8.5 2.5l-.94 2.06-2.06.94zm10 10l.94 2.06.94-2.06 2.06-.94-2.06-.94-.94-2.06-.94 2.06-2.06.94z\"/><path d=\"M17.41 7.96l-1.37-1.37c-.4-.4-.92-.59-1.43-.59-.52 0-1.04.2-1.43.59L10.3 9.45l-7.72 7.72c-.78.78-.78 2.05 0 2.83L4 21.41c.39.39.9.59 1.41.59.51 0 1.02-.2 1.41-.59l7.78-7.78 2.81-2.81c.8-.78.8-2.07 0-2.86zM5.41 20L4 18.59l7.72-7.72 1.47 1.35L5.41 20z\"/>\n",
              "  </svg>\n",
              "      </button>\n",
              "      \n",
              "  <style>\n",
              "    .colab-df-container {\n",
              "      display:flex;\n",
              "      flex-wrap:wrap;\n",
              "      gap: 12px;\n",
              "    }\n",
              "\n",
              "    .colab-df-convert {\n",
              "      background-color: #E8F0FE;\n",
              "      border: none;\n",
              "      border-radius: 50%;\n",
              "      cursor: pointer;\n",
              "      display: none;\n",
              "      fill: #1967D2;\n",
              "      height: 32px;\n",
              "      padding: 0 0 0 0;\n",
              "      width: 32px;\n",
              "    }\n",
              "\n",
              "    .colab-df-convert:hover {\n",
              "      background-color: #E2EBFA;\n",
              "      box-shadow: 0px 1px 2px rgba(60, 64, 67, 0.3), 0px 1px 3px 1px rgba(60, 64, 67, 0.15);\n",
              "      fill: #174EA6;\n",
              "    }\n",
              "\n",
              "    [theme=dark] .colab-df-convert {\n",
              "      background-color: #3B4455;\n",
              "      fill: #D2E3FC;\n",
              "    }\n",
              "\n",
              "    [theme=dark] .colab-df-convert:hover {\n",
              "      background-color: #434B5C;\n",
              "      box-shadow: 0px 1px 3px 1px rgba(0, 0, 0, 0.15);\n",
              "      filter: drop-shadow(0px 1px 2px rgba(0, 0, 0, 0.3));\n",
              "      fill: #FFFFFF;\n",
              "    }\n",
              "  </style>\n",
              "\n",
              "      <script>\n",
              "        const buttonEl =\n",
              "          document.querySelector('#df-50121268-56a4-46f5-a35b-898d97d0b8b1 button.colab-df-convert');\n",
              "        buttonEl.style.display =\n",
              "          google.colab.kernel.accessAllowed ? 'block' : 'none';\n",
              "\n",
              "        async function convertToInteractive(key) {\n",
              "          const element = document.querySelector('#df-50121268-56a4-46f5-a35b-898d97d0b8b1');\n",
              "          const dataTable =\n",
              "            await google.colab.kernel.invokeFunction('convertToInteractive',\n",
              "                                                     [key], {});\n",
              "          if (!dataTable) return;\n",
              "\n",
              "          const docLinkHtml = 'Like what you see? Visit the ' +\n",
              "            '<a target=\"_blank\" href=https://colab.research.google.com/notebooks/data_table.ipynb>data table notebook</a>'\n",
              "            + ' to learn more about interactive tables.';\n",
              "          element.innerHTML = '';\n",
              "          dataTable['output_type'] = 'display_data';\n",
              "          await google.colab.output.renderOutput(dataTable, element);\n",
              "          const docLink = document.createElement('div');\n",
              "          docLink.innerHTML = docLinkHtml;\n",
              "          element.appendChild(docLink);\n",
              "        }\n",
              "      </script>\n",
              "    </div>\n",
              "  </div>\n",
              "  "
            ]
          },
          "metadata": {},
          "execution_count": 35
        }
      ]
    },
    {
      "cell_type": "markdown",
      "source": [
        "Análise candidato Bolsonaro"
      ],
      "metadata": {
        "id": "1lEQgdN2rNPG"
      }
    },
    {
      "cell_type": "code",
      "source": [
        "lista_tweets_bolsonaro=[]"
      ],
      "metadata": {
        "id": "TRSE-9pThA41"
      },
      "execution_count": 36,
      "outputs": []
    },
    {
      "cell_type": "code",
      "source": [
        "for i, tweet in enumerate(snstwitter.TwitterSearchScraper(['bolsonaro']).get_items()):\n",
        "  if i> maximo_tweets:\n",
        "    break\n",
        "  lista_tweets_bolsonaro.append([tweet.date,tweet.id, tweet.content])"
      ],
      "metadata": {
        "id": "lgKNViHlrVxU"
      },
      "execution_count": 37,
      "outputs": []
    },
    {
      "cell_type": "code",
      "source": [
        "dataframe_tweets_bolsonaro=pd.DataFrame(lista_tweets_bolsonaro,columns=['Data_hora','idTweet','Tweet'])"
      ],
      "metadata": {
        "id": "Pis-VMUarhgM"
      },
      "execution_count": 38,
      "outputs": []
    },
    {
      "cell_type": "code",
      "source": [
        "dataframe_tweets_bolsonaro['Candidato']='Bolsonaro'"
      ],
      "metadata": {
        "id": "q1FAB_K_ru0y"
      },
      "execution_count": 39,
      "outputs": []
    },
    {
      "cell_type": "code",
      "source": [
        "dataframe_tweets_bolsonaro.head()"
      ],
      "metadata": {
        "colab": {
          "base_uri": "https://localhost:8080/",
          "height": 206
        },
        "id": "EYogYr4Aru4K",
        "outputId": "6c6e8c3a-72ce-4cbd-962a-093bc9769ef2"
      },
      "execution_count": 40,
      "outputs": [
        {
          "output_type": "execute_result",
          "data": {
            "text/plain": [
              "                  Data_hora              idTweet  \\\n",
              "0 2022-07-31 08:41:03+00:00  1553662011334074368   \n",
              "1 2022-07-31 08:40:39+00:00  1553661909534183425   \n",
              "2 2022-07-31 08:40:38+00:00  1553661903356006400   \n",
              "3 2022-07-31 08:40:31+00:00  1553661873849090048   \n",
              "4 2022-07-31 08:40:18+00:00  1553661821097316352   \n",
              "\n",
              "                                               Tweet  Candidato  \n",
              "0           @jairbolsonaro Bolsonaro 2022 🇧🇷🇧🇷🇧🇷🇧🇷🇧🇷  Bolsonaro  \n",
              "1                            @JociPaulinia Bolsonaro  Bolsonaro  \n",
              "2  @amandacostapi @reinaldoazevedo Sua bosta BOLS...  Bolsonaro  \n",
              "3  *Eduardo Cunha e Daniel Silveira sobem em pala...  Bolsonaro  \n",
              "4  @Eliezer13525486 @marcofeliciano @jairbolsonar...  Bolsonaro  "
            ],
            "text/html": [
              "\n",
              "  <div id=\"df-e94a9c04-ac3e-4501-803e-7c72b8e86371\">\n",
              "    <div class=\"colab-df-container\">\n",
              "      <div>\n",
              "<style scoped>\n",
              "    .dataframe tbody tr th:only-of-type {\n",
              "        vertical-align: middle;\n",
              "    }\n",
              "\n",
              "    .dataframe tbody tr th {\n",
              "        vertical-align: top;\n",
              "    }\n",
              "\n",
              "    .dataframe thead th {\n",
              "        text-align: right;\n",
              "    }\n",
              "</style>\n",
              "<table border=\"1\" class=\"dataframe\">\n",
              "  <thead>\n",
              "    <tr style=\"text-align: right;\">\n",
              "      <th></th>\n",
              "      <th>Data_hora</th>\n",
              "      <th>idTweet</th>\n",
              "      <th>Tweet</th>\n",
              "      <th>Candidato</th>\n",
              "    </tr>\n",
              "  </thead>\n",
              "  <tbody>\n",
              "    <tr>\n",
              "      <th>0</th>\n",
              "      <td>2022-07-31 08:41:03+00:00</td>\n",
              "      <td>1553662011334074368</td>\n",
              "      <td>@jairbolsonaro Bolsonaro 2022 🇧🇷🇧🇷🇧🇷🇧🇷🇧🇷</td>\n",
              "      <td>Bolsonaro</td>\n",
              "    </tr>\n",
              "    <tr>\n",
              "      <th>1</th>\n",
              "      <td>2022-07-31 08:40:39+00:00</td>\n",
              "      <td>1553661909534183425</td>\n",
              "      <td>@JociPaulinia Bolsonaro</td>\n",
              "      <td>Bolsonaro</td>\n",
              "    </tr>\n",
              "    <tr>\n",
              "      <th>2</th>\n",
              "      <td>2022-07-31 08:40:38+00:00</td>\n",
              "      <td>1553661903356006400</td>\n",
              "      <td>@amandacostapi @reinaldoazevedo Sua bosta BOLS...</td>\n",
              "      <td>Bolsonaro</td>\n",
              "    </tr>\n",
              "    <tr>\n",
              "      <th>3</th>\n",
              "      <td>2022-07-31 08:40:31+00:00</td>\n",
              "      <td>1553661873849090048</td>\n",
              "      <td>*Eduardo Cunha e Daniel Silveira sobem em pala...</td>\n",
              "      <td>Bolsonaro</td>\n",
              "    </tr>\n",
              "    <tr>\n",
              "      <th>4</th>\n",
              "      <td>2022-07-31 08:40:18+00:00</td>\n",
              "      <td>1553661821097316352</td>\n",
              "      <td>@Eliezer13525486 @marcofeliciano @jairbolsonar...</td>\n",
              "      <td>Bolsonaro</td>\n",
              "    </tr>\n",
              "  </tbody>\n",
              "</table>\n",
              "</div>\n",
              "      <button class=\"colab-df-convert\" onclick=\"convertToInteractive('df-e94a9c04-ac3e-4501-803e-7c72b8e86371')\"\n",
              "              title=\"Convert this dataframe to an interactive table.\"\n",
              "              style=\"display:none;\">\n",
              "        \n",
              "  <svg xmlns=\"http://www.w3.org/2000/svg\" height=\"24px\"viewBox=\"0 0 24 24\"\n",
              "       width=\"24px\">\n",
              "    <path d=\"M0 0h24v24H0V0z\" fill=\"none\"/>\n",
              "    <path d=\"M18.56 5.44l.94 2.06.94-2.06 2.06-.94-2.06-.94-.94-2.06-.94 2.06-2.06.94zm-11 1L8.5 8.5l.94-2.06 2.06-.94-2.06-.94L8.5 2.5l-.94 2.06-2.06.94zm10 10l.94 2.06.94-2.06 2.06-.94-2.06-.94-.94-2.06-.94 2.06-2.06.94z\"/><path d=\"M17.41 7.96l-1.37-1.37c-.4-.4-.92-.59-1.43-.59-.52 0-1.04.2-1.43.59L10.3 9.45l-7.72 7.72c-.78.78-.78 2.05 0 2.83L4 21.41c.39.39.9.59 1.41.59.51 0 1.02-.2 1.41-.59l7.78-7.78 2.81-2.81c.8-.78.8-2.07 0-2.86zM5.41 20L4 18.59l7.72-7.72 1.47 1.35L5.41 20z\"/>\n",
              "  </svg>\n",
              "      </button>\n",
              "      \n",
              "  <style>\n",
              "    .colab-df-container {\n",
              "      display:flex;\n",
              "      flex-wrap:wrap;\n",
              "      gap: 12px;\n",
              "    }\n",
              "\n",
              "    .colab-df-convert {\n",
              "      background-color: #E8F0FE;\n",
              "      border: none;\n",
              "      border-radius: 50%;\n",
              "      cursor: pointer;\n",
              "      display: none;\n",
              "      fill: #1967D2;\n",
              "      height: 32px;\n",
              "      padding: 0 0 0 0;\n",
              "      width: 32px;\n",
              "    }\n",
              "\n",
              "    .colab-df-convert:hover {\n",
              "      background-color: #E2EBFA;\n",
              "      box-shadow: 0px 1px 2px rgba(60, 64, 67, 0.3), 0px 1px 3px 1px rgba(60, 64, 67, 0.15);\n",
              "      fill: #174EA6;\n",
              "    }\n",
              "\n",
              "    [theme=dark] .colab-df-convert {\n",
              "      background-color: #3B4455;\n",
              "      fill: #D2E3FC;\n",
              "    }\n",
              "\n",
              "    [theme=dark] .colab-df-convert:hover {\n",
              "      background-color: #434B5C;\n",
              "      box-shadow: 0px 1px 3px 1px rgba(0, 0, 0, 0.15);\n",
              "      filter: drop-shadow(0px 1px 2px rgba(0, 0, 0, 0.3));\n",
              "      fill: #FFFFFF;\n",
              "    }\n",
              "  </style>\n",
              "\n",
              "      <script>\n",
              "        const buttonEl =\n",
              "          document.querySelector('#df-e94a9c04-ac3e-4501-803e-7c72b8e86371 button.colab-df-convert');\n",
              "        buttonEl.style.display =\n",
              "          google.colab.kernel.accessAllowed ? 'block' : 'none';\n",
              "\n",
              "        async function convertToInteractive(key) {\n",
              "          const element = document.querySelector('#df-e94a9c04-ac3e-4501-803e-7c72b8e86371');\n",
              "          const dataTable =\n",
              "            await google.colab.kernel.invokeFunction('convertToInteractive',\n",
              "                                                     [key], {});\n",
              "          if (!dataTable) return;\n",
              "\n",
              "          const docLinkHtml = 'Like what you see? Visit the ' +\n",
              "            '<a target=\"_blank\" href=https://colab.research.google.com/notebooks/data_table.ipynb>data table notebook</a>'\n",
              "            + ' to learn more about interactive tables.';\n",
              "          element.innerHTML = '';\n",
              "          dataTable['output_type'] = 'display_data';\n",
              "          await google.colab.output.renderOutput(dataTable, element);\n",
              "          const docLink = document.createElement('div');\n",
              "          docLink.innerHTML = docLinkHtml;\n",
              "          element.appendChild(docLink);\n",
              "        }\n",
              "      </script>\n",
              "    </div>\n",
              "  </div>\n",
              "  "
            ]
          },
          "metadata": {},
          "execution_count": 40
        }
      ]
    },
    {
      "cell_type": "markdown",
      "source": [
        "Análise candidato Ciro"
      ],
      "metadata": {
        "id": "JLyp6nasrVEx"
      }
    },
    {
      "cell_type": "code",
      "source": [
        "lista_tweets_ciro=[]"
      ],
      "metadata": {
        "id": "ZVzK01O1hFS3"
      },
      "execution_count": 41,
      "outputs": []
    },
    {
      "cell_type": "code",
      "source": [
        "for i, tweet in enumerate(snstwitter.TwitterSearchScraper(['ciro']).get_items()):\n",
        "  if i> maximo_tweets:\n",
        "    break\n",
        "  lista_tweets_ciro.append([tweet.date,tweet.id, tweet.content])"
      ],
      "metadata": {
        "id": "hAW6c_ODsIlo"
      },
      "execution_count": 42,
      "outputs": []
    },
    {
      "cell_type": "code",
      "source": [
        "dataframe_tweets_ciro=pd.DataFrame(lista_tweets_ciro,columns=['Data_hora','idTweet','Tweet'])"
      ],
      "metadata": {
        "id": "1m-19eijsNBn"
      },
      "execution_count": 43,
      "outputs": []
    },
    {
      "cell_type": "code",
      "source": [
        "dataframe_tweets_ciro['Candidato']='Ciro'"
      ],
      "metadata": {
        "id": "6O-Z3sjxsTus"
      },
      "execution_count": 44,
      "outputs": []
    },
    {
      "cell_type": "code",
      "source": [
        "dataframe_tweets_ciro.head()"
      ],
      "metadata": {
        "colab": {
          "base_uri": "https://localhost:8080/",
          "height": 206
        },
        "id": "vzYUrycosYJa",
        "outputId": "28ab8560-01c4-41f7-f788-9c7fae5b4e0d"
      },
      "execution_count": 45,
      "outputs": [
        {
          "output_type": "execute_result",
          "data": {
            "text/plain": [
              "                  Data_hora              idTweet  \\\n",
              "0 2022-07-31 08:41:01+00:00  1553662003738288129   \n",
              "1 2022-07-31 08:40:06+00:00  1553661771612917761   \n",
              "2 2022-07-31 08:39:33+00:00  1553661631871188994   \n",
              "3 2022-07-31 08:39:03+00:00  1553661505450770432   \n",
              "4 2022-07-31 08:38:49+00:00  1553661449666445314   \n",
              "\n",
              "                                               Tweet Candidato  \n",
              "0                                     @Don_Ciro_ Oui      Ciro  \n",
              "1  @FGuerreiroMEP @cirogomes Ain, outro com síndr...      Ciro  \n",
              "2  Urgue castigo a estos psicópatas, así empiezan...      Ciro  \n",
              "3                @revistaforum CIRO GOMES PRESIDENTE      Ciro  \n",
              "4  Mai nessuno che mi porta una graffa di ciro ch...      Ciro  "
            ],
            "text/html": [
              "\n",
              "  <div id=\"df-076f3023-7673-4c54-a066-ef9d081f7455\">\n",
              "    <div class=\"colab-df-container\">\n",
              "      <div>\n",
              "<style scoped>\n",
              "    .dataframe tbody tr th:only-of-type {\n",
              "        vertical-align: middle;\n",
              "    }\n",
              "\n",
              "    .dataframe tbody tr th {\n",
              "        vertical-align: top;\n",
              "    }\n",
              "\n",
              "    .dataframe thead th {\n",
              "        text-align: right;\n",
              "    }\n",
              "</style>\n",
              "<table border=\"1\" class=\"dataframe\">\n",
              "  <thead>\n",
              "    <tr style=\"text-align: right;\">\n",
              "      <th></th>\n",
              "      <th>Data_hora</th>\n",
              "      <th>idTweet</th>\n",
              "      <th>Tweet</th>\n",
              "      <th>Candidato</th>\n",
              "    </tr>\n",
              "  </thead>\n",
              "  <tbody>\n",
              "    <tr>\n",
              "      <th>0</th>\n",
              "      <td>2022-07-31 08:41:01+00:00</td>\n",
              "      <td>1553662003738288129</td>\n",
              "      <td>@Don_Ciro_ Oui</td>\n",
              "      <td>Ciro</td>\n",
              "    </tr>\n",
              "    <tr>\n",
              "      <th>1</th>\n",
              "      <td>2022-07-31 08:40:06+00:00</td>\n",
              "      <td>1553661771612917761</td>\n",
              "      <td>@FGuerreiroMEP @cirogomes Ain, outro com síndr...</td>\n",
              "      <td>Ciro</td>\n",
              "    </tr>\n",
              "    <tr>\n",
              "      <th>2</th>\n",
              "      <td>2022-07-31 08:39:33+00:00</td>\n",
              "      <td>1553661631871188994</td>\n",
              "      <td>Urgue castigo a estos psicópatas, así empiezan...</td>\n",
              "      <td>Ciro</td>\n",
              "    </tr>\n",
              "    <tr>\n",
              "      <th>3</th>\n",
              "      <td>2022-07-31 08:39:03+00:00</td>\n",
              "      <td>1553661505450770432</td>\n",
              "      <td>@revistaforum CIRO GOMES PRESIDENTE</td>\n",
              "      <td>Ciro</td>\n",
              "    </tr>\n",
              "    <tr>\n",
              "      <th>4</th>\n",
              "      <td>2022-07-31 08:38:49+00:00</td>\n",
              "      <td>1553661449666445314</td>\n",
              "      <td>Mai nessuno che mi porta una graffa di ciro ch...</td>\n",
              "      <td>Ciro</td>\n",
              "    </tr>\n",
              "  </tbody>\n",
              "</table>\n",
              "</div>\n",
              "      <button class=\"colab-df-convert\" onclick=\"convertToInteractive('df-076f3023-7673-4c54-a066-ef9d081f7455')\"\n",
              "              title=\"Convert this dataframe to an interactive table.\"\n",
              "              style=\"display:none;\">\n",
              "        \n",
              "  <svg xmlns=\"http://www.w3.org/2000/svg\" height=\"24px\"viewBox=\"0 0 24 24\"\n",
              "       width=\"24px\">\n",
              "    <path d=\"M0 0h24v24H0V0z\" fill=\"none\"/>\n",
              "    <path d=\"M18.56 5.44l.94 2.06.94-2.06 2.06-.94-2.06-.94-.94-2.06-.94 2.06-2.06.94zm-11 1L8.5 8.5l.94-2.06 2.06-.94-2.06-.94L8.5 2.5l-.94 2.06-2.06.94zm10 10l.94 2.06.94-2.06 2.06-.94-2.06-.94-.94-2.06-.94 2.06-2.06.94z\"/><path d=\"M17.41 7.96l-1.37-1.37c-.4-.4-.92-.59-1.43-.59-.52 0-1.04.2-1.43.59L10.3 9.45l-7.72 7.72c-.78.78-.78 2.05 0 2.83L4 21.41c.39.39.9.59 1.41.59.51 0 1.02-.2 1.41-.59l7.78-7.78 2.81-2.81c.8-.78.8-2.07 0-2.86zM5.41 20L4 18.59l7.72-7.72 1.47 1.35L5.41 20z\"/>\n",
              "  </svg>\n",
              "      </button>\n",
              "      \n",
              "  <style>\n",
              "    .colab-df-container {\n",
              "      display:flex;\n",
              "      flex-wrap:wrap;\n",
              "      gap: 12px;\n",
              "    }\n",
              "\n",
              "    .colab-df-convert {\n",
              "      background-color: #E8F0FE;\n",
              "      border: none;\n",
              "      border-radius: 50%;\n",
              "      cursor: pointer;\n",
              "      display: none;\n",
              "      fill: #1967D2;\n",
              "      height: 32px;\n",
              "      padding: 0 0 0 0;\n",
              "      width: 32px;\n",
              "    }\n",
              "\n",
              "    .colab-df-convert:hover {\n",
              "      background-color: #E2EBFA;\n",
              "      box-shadow: 0px 1px 2px rgba(60, 64, 67, 0.3), 0px 1px 3px 1px rgba(60, 64, 67, 0.15);\n",
              "      fill: #174EA6;\n",
              "    }\n",
              "\n",
              "    [theme=dark] .colab-df-convert {\n",
              "      background-color: #3B4455;\n",
              "      fill: #D2E3FC;\n",
              "    }\n",
              "\n",
              "    [theme=dark] .colab-df-convert:hover {\n",
              "      background-color: #434B5C;\n",
              "      box-shadow: 0px 1px 3px 1px rgba(0, 0, 0, 0.15);\n",
              "      filter: drop-shadow(0px 1px 2px rgba(0, 0, 0, 0.3));\n",
              "      fill: #FFFFFF;\n",
              "    }\n",
              "  </style>\n",
              "\n",
              "      <script>\n",
              "        const buttonEl =\n",
              "          document.querySelector('#df-076f3023-7673-4c54-a066-ef9d081f7455 button.colab-df-convert');\n",
              "        buttonEl.style.display =\n",
              "          google.colab.kernel.accessAllowed ? 'block' : 'none';\n",
              "\n",
              "        async function convertToInteractive(key) {\n",
              "          const element = document.querySelector('#df-076f3023-7673-4c54-a066-ef9d081f7455');\n",
              "          const dataTable =\n",
              "            await google.colab.kernel.invokeFunction('convertToInteractive',\n",
              "                                                     [key], {});\n",
              "          if (!dataTable) return;\n",
              "\n",
              "          const docLinkHtml = 'Like what you see? Visit the ' +\n",
              "            '<a target=\"_blank\" href=https://colab.research.google.com/notebooks/data_table.ipynb>data table notebook</a>'\n",
              "            + ' to learn more about interactive tables.';\n",
              "          element.innerHTML = '';\n",
              "          dataTable['output_type'] = 'display_data';\n",
              "          await google.colab.output.renderOutput(dataTable, element);\n",
              "          const docLink = document.createElement('div');\n",
              "          docLink.innerHTML = docLinkHtml;\n",
              "          element.appendChild(docLink);\n",
              "        }\n",
              "      </script>\n",
              "    </div>\n",
              "  </div>\n",
              "  "
            ]
          },
          "metadata": {},
          "execution_count": 45
        }
      ]
    },
    {
      "cell_type": "markdown",
      "source": [
        "Unificação Dataframe"
      ],
      "metadata": {
        "id": "jCRpC0J7s52Q"
      }
    },
    {
      "cell_type": "code",
      "source": [
        "dataframe_unico= pd.concat([dataframe_tweets_lula,dataframe_tweets_bolsonaro,dataframe_tweets_ciro],axis=0)"
      ],
      "metadata": {
        "id": "gMlRvCTGsbjq"
      },
      "execution_count": 46,
      "outputs": []
    },
    {
      "cell_type": "code",
      "source": [
        "dataframe_unico['Candidato'].unique()"
      ],
      "metadata": {
        "colab": {
          "base_uri": "https://localhost:8080/"
        },
        "id": "iQaCozb0tJXH",
        "outputId": "906dfdb0-90e3-445e-dd5c-c99c4aeaaa77"
      },
      "execution_count": 47,
      "outputs": [
        {
          "output_type": "execute_result",
          "data": {
            "text/plain": [
              "array(['Lula', 'Bolsonaro', 'Ciro'], dtype=object)"
            ]
          },
          "metadata": {},
          "execution_count": 47
        }
      ]
    },
    {
      "cell_type": "code",
      "source": [
        "dataframe_unico.to_csv('dataframe_unico_candidatos.csv', sep=',',index=False)"
      ],
      "metadata": {
        "id": "D2DhbppjtuNS"
      },
      "execution_count": 48,
      "outputs": []
    }
  ]
}