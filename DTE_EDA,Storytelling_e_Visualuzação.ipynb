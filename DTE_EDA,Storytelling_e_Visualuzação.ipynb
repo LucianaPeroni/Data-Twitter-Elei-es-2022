{
  "nbformat": 4,
  "nbformat_minor": 0,
  "metadata": {
    "colab": {
      "name": "DTE_EDA,Storytelling e Visualuzação.ipynb",
      "provenance": [],
      "collapsed_sections": [],
      "authorship_tag": "ABX9TyMNfbsMy2U4yEN/1SOzGFf5",
      "include_colab_link": true
    },
    "kernelspec": {
      "name": "python3",
      "display_name": "Python 3"
    },
    "language_info": {
      "name": "python"
    }
  },
  "cells": [
    {
      "cell_type": "markdown",
      "metadata": {
        "id": "view-in-github",
        "colab_type": "text"
      },
      "source": [
        "<a href=\"https://colab.research.google.com/github/LucianaPeroni/Data-Twitter-Eleicoes-2022/blob/main/DTE_EDA%2CStorytelling_e_Visualuza%C3%A7%C3%A3o.ipynb\" target=\"_parent\"><img src=\"https://colab.research.google.com/assets/colab-badge.svg\" alt=\"Open In Colab\"/></a>"
      ]
    },
    {
      "cell_type": "markdown",
      "source": [
        "##Etapa 3 - EDA,Storytelling e Visualuzação"
      ],
      "metadata": {
        "id": "f7PfGDh3xOuC"
      }
    },
    {
      "cell_type": "markdown",
      "source": [
        "Bibliotecas"
      ],
      "metadata": {
        "id": "skhXPh_mxy7s"
      }
    },
    {
      "cell_type": "code",
      "source": [
        "import pandas as pd\n",
        "import re #expressões regulares"
      ],
      "metadata": {
        "id": "scdGWbvIxTjm"
      },
      "execution_count": 54,
      "outputs": []
    },
    {
      "cell_type": "code",
      "source": [
        "dataframe_unico_candidatos = pd.read_csv('dataframe_unico_candidatos.csv')"
      ],
      "metadata": {
        "id": "8AMXwFQsx3K4"
      },
      "execution_count": 55,
      "outputs": []
    },
    {
      "cell_type": "code",
      "source": [
        "dataframe_unico_candidatos.head()"
      ],
      "metadata": {
        "colab": {
          "base_uri": "https://localhost:8080/",
          "height": 206
        },
        "id": "v-e4crbjyDq0",
        "outputId": "372a43c3-8645-469e-ffc1-af63964da0fa"
      },
      "execution_count": 56,
      "outputs": [
        {
          "output_type": "execute_result",
          "data": {
            "text/plain": [
              "                   Data_hora              idTweet  \\\n",
              "0  2022-07-31 08:41:01+00:00  1553662000097644546   \n",
              "1  2022-07-31 08:40:56+00:00  1553661978626899968   \n",
              "2  2022-07-31 08:40:49+00:00  1553661949694590977   \n",
              "3  2022-07-31 08:40:44+00:00  1553661931575054336   \n",
              "4  2022-07-31 08:40:32+00:00  1553661881889464320   \n",
              "\n",
              "                                               Tweet Candidato  \n",
              "0  @brasildefato LULA COMPRADO ALCKEMIN https://t...      Lula  \n",
              "1  @senadorhumberto @CamiloSantanaCE @elmanofreit...      Lula  \n",
              "2  @LulaOficial PQP o cara tem q ser muito idiota...      Lula  \n",
              "3  @kazuhaC1G1P1 HY LULAAA. Kalo gua sukanya film...      Lula  \n",
              "4  @Rocha7591 E a do Lula não põe ?? 73.000,00 po...      Lula  "
            ],
            "text/html": [
              "\n",
              "  <div id=\"df-402462e6-3df5-4169-a739-6ef50e3a025d\">\n",
              "    <div class=\"colab-df-container\">\n",
              "      <div>\n",
              "<style scoped>\n",
              "    .dataframe tbody tr th:only-of-type {\n",
              "        vertical-align: middle;\n",
              "    }\n",
              "\n",
              "    .dataframe tbody tr th {\n",
              "        vertical-align: top;\n",
              "    }\n",
              "\n",
              "    .dataframe thead th {\n",
              "        text-align: right;\n",
              "    }\n",
              "</style>\n",
              "<table border=\"1\" class=\"dataframe\">\n",
              "  <thead>\n",
              "    <tr style=\"text-align: right;\">\n",
              "      <th></th>\n",
              "      <th>Data_hora</th>\n",
              "      <th>idTweet</th>\n",
              "      <th>Tweet</th>\n",
              "      <th>Candidato</th>\n",
              "    </tr>\n",
              "  </thead>\n",
              "  <tbody>\n",
              "    <tr>\n",
              "      <th>0</th>\n",
              "      <td>2022-07-31 08:41:01+00:00</td>\n",
              "      <td>1553662000097644546</td>\n",
              "      <td>@brasildefato LULA COMPRADO ALCKEMIN https://t...</td>\n",
              "      <td>Lula</td>\n",
              "    </tr>\n",
              "    <tr>\n",
              "      <th>1</th>\n",
              "      <td>2022-07-31 08:40:56+00:00</td>\n",
              "      <td>1553661978626899968</td>\n",
              "      <td>@senadorhumberto @CamiloSantanaCE @elmanofreit...</td>\n",
              "      <td>Lula</td>\n",
              "    </tr>\n",
              "    <tr>\n",
              "      <th>2</th>\n",
              "      <td>2022-07-31 08:40:49+00:00</td>\n",
              "      <td>1553661949694590977</td>\n",
              "      <td>@LulaOficial PQP o cara tem q ser muito idiota...</td>\n",
              "      <td>Lula</td>\n",
              "    </tr>\n",
              "    <tr>\n",
              "      <th>3</th>\n",
              "      <td>2022-07-31 08:40:44+00:00</td>\n",
              "      <td>1553661931575054336</td>\n",
              "      <td>@kazuhaC1G1P1 HY LULAAA. Kalo gua sukanya film...</td>\n",
              "      <td>Lula</td>\n",
              "    </tr>\n",
              "    <tr>\n",
              "      <th>4</th>\n",
              "      <td>2022-07-31 08:40:32+00:00</td>\n",
              "      <td>1553661881889464320</td>\n",
              "      <td>@Rocha7591 E a do Lula não põe ?? 73.000,00 po...</td>\n",
              "      <td>Lula</td>\n",
              "    </tr>\n",
              "  </tbody>\n",
              "</table>\n",
              "</div>\n",
              "      <button class=\"colab-df-convert\" onclick=\"convertToInteractive('df-402462e6-3df5-4169-a739-6ef50e3a025d')\"\n",
              "              title=\"Convert this dataframe to an interactive table.\"\n",
              "              style=\"display:none;\">\n",
              "        \n",
              "  <svg xmlns=\"http://www.w3.org/2000/svg\" height=\"24px\"viewBox=\"0 0 24 24\"\n",
              "       width=\"24px\">\n",
              "    <path d=\"M0 0h24v24H0V0z\" fill=\"none\"/>\n",
              "    <path d=\"M18.56 5.44l.94 2.06.94-2.06 2.06-.94-2.06-.94-.94-2.06-.94 2.06-2.06.94zm-11 1L8.5 8.5l.94-2.06 2.06-.94-2.06-.94L8.5 2.5l-.94 2.06-2.06.94zm10 10l.94 2.06.94-2.06 2.06-.94-2.06-.94-.94-2.06-.94 2.06-2.06.94z\"/><path d=\"M17.41 7.96l-1.37-1.37c-.4-.4-.92-.59-1.43-.59-.52 0-1.04.2-1.43.59L10.3 9.45l-7.72 7.72c-.78.78-.78 2.05 0 2.83L4 21.41c.39.39.9.59 1.41.59.51 0 1.02-.2 1.41-.59l7.78-7.78 2.81-2.81c.8-.78.8-2.07 0-2.86zM5.41 20L4 18.59l7.72-7.72 1.47 1.35L5.41 20z\"/>\n",
              "  </svg>\n",
              "      </button>\n",
              "      \n",
              "  <style>\n",
              "    .colab-df-container {\n",
              "      display:flex;\n",
              "      flex-wrap:wrap;\n",
              "      gap: 12px;\n",
              "    }\n",
              "\n",
              "    .colab-df-convert {\n",
              "      background-color: #E8F0FE;\n",
              "      border: none;\n",
              "      border-radius: 50%;\n",
              "      cursor: pointer;\n",
              "      display: none;\n",
              "      fill: #1967D2;\n",
              "      height: 32px;\n",
              "      padding: 0 0 0 0;\n",
              "      width: 32px;\n",
              "    }\n",
              "\n",
              "    .colab-df-convert:hover {\n",
              "      background-color: #E2EBFA;\n",
              "      box-shadow: 0px 1px 2px rgba(60, 64, 67, 0.3), 0px 1px 3px 1px rgba(60, 64, 67, 0.15);\n",
              "      fill: #174EA6;\n",
              "    }\n",
              "\n",
              "    [theme=dark] .colab-df-convert {\n",
              "      background-color: #3B4455;\n",
              "      fill: #D2E3FC;\n",
              "    }\n",
              "\n",
              "    [theme=dark] .colab-df-convert:hover {\n",
              "      background-color: #434B5C;\n",
              "      box-shadow: 0px 1px 3px 1px rgba(0, 0, 0, 0.15);\n",
              "      filter: drop-shadow(0px 1px 2px rgba(0, 0, 0, 0.3));\n",
              "      fill: #FFFFFF;\n",
              "    }\n",
              "  </style>\n",
              "\n",
              "      <script>\n",
              "        const buttonEl =\n",
              "          document.querySelector('#df-402462e6-3df5-4169-a739-6ef50e3a025d button.colab-df-convert');\n",
              "        buttonEl.style.display =\n",
              "          google.colab.kernel.accessAllowed ? 'block' : 'none';\n",
              "\n",
              "        async function convertToInteractive(key) {\n",
              "          const element = document.querySelector('#df-402462e6-3df5-4169-a739-6ef50e3a025d');\n",
              "          const dataTable =\n",
              "            await google.colab.kernel.invokeFunction('convertToInteractive',\n",
              "                                                     [key], {});\n",
              "          if (!dataTable) return;\n",
              "\n",
              "          const docLinkHtml = 'Like what you see? Visit the ' +\n",
              "            '<a target=\"_blank\" href=https://colab.research.google.com/notebooks/data_table.ipynb>data table notebook</a>'\n",
              "            + ' to learn more about interactive tables.';\n",
              "          element.innerHTML = '';\n",
              "          dataTable['output_type'] = 'display_data';\n",
              "          await google.colab.output.renderOutput(dataTable, element);\n",
              "          const docLink = document.createElement('div');\n",
              "          docLink.innerHTML = docLinkHtml;\n",
              "          element.appendChild(docLink);\n",
              "        }\n",
              "      </script>\n",
              "    </div>\n",
              "  </div>\n",
              "  "
            ]
          },
          "metadata": {},
          "execution_count": 56
        }
      ]
    },
    {
      "cell_type": "code",
      "source": [
        "dataframe_unico_candidatos.info()"
      ],
      "metadata": {
        "colab": {
          "base_uri": "https://localhost:8080/"
        },
        "id": "mX0MuSwUy4td",
        "outputId": "1ef16cea-d5e2-4d4b-ce4c-9a29aa3ae9b9"
      },
      "execution_count": 57,
      "outputs": [
        {
          "output_type": "stream",
          "name": "stdout",
          "text": [
            "<class 'pandas.core.frame.DataFrame'>\n",
            "RangeIndex: 453 entries, 0 to 452\n",
            "Data columns (total 4 columns):\n",
            " #   Column     Non-Null Count  Dtype \n",
            "---  ------     --------------  ----- \n",
            " 0   Data_hora  453 non-null    object\n",
            " 1   idTweet    453 non-null    int64 \n",
            " 2   Tweet      453 non-null    object\n",
            " 3   Candidato  453 non-null    object\n",
            "dtypes: int64(1), object(3)\n",
            "memory usage: 14.3+ KB\n"
          ]
        }
      ]
    },
    {
      "cell_type": "code",
      "source": [
        "dataframe_unico_candidatos.isnull().sum()"
      ],
      "metadata": {
        "colab": {
          "base_uri": "https://localhost:8080/"
        },
        "id": "eV7ggyJby7xo",
        "outputId": "5eeaf165-32a8-4f6c-e93d-d5ac740e167b"
      },
      "execution_count": 58,
      "outputs": [
        {
          "output_type": "execute_result",
          "data": {
            "text/plain": [
              "Data_hora    0\n",
              "idTweet      0\n",
              "Tweet        0\n",
              "Candidato    0\n",
              "dtype: int64"
            ]
          },
          "metadata": {},
          "execution_count": 58
        }
      ]
    },
    {
      "cell_type": "code",
      "source": [
        "dataframe_unico_candidatos['Tweet_limpo']=dataframe_unico_candidatos['Tweet']"
      ],
      "metadata": {
        "id": "FfwKKNTJzVXF"
      },
      "execution_count": 59,
      "outputs": []
    },
    {
      "cell_type": "code",
      "source": [
        "def limpeza_texto(tweet):\n",
        "  tweet = tweet.lower()\n",
        "  #tweet = re.sub('\\n','',tweet)\n",
        "  #tweet = re.sub('@[^\\s]','',tweet)\n",
        "  #tweet = re.sub('\\B#\\S+','',tweet)\n",
        "  #tweet = re.sub('https?://\\S+|www\\.\\S+','',tweet)\n",
        "  return tweet"
      ],
      "metadata": {
        "id": "t4IPKuYyzjlq"
      },
      "execution_count": 60,
      "outputs": []
    },
    {
      "cell_type": "code",
      "source": [
        "dataframe_unico_candidatos['Tweet_limpo']=dataframe_unico_candidatos['Tweet'].apply(lambda i:limpeza_texto(i))"
      ],
      "metadata": {
        "id": "IuehMlxW1mwr"
      },
      "execution_count": 61,
      "outputs": []
    },
    {
      "cell_type": "code",
      "source": [
        "dataframe_unico_candidatos.head()"
      ],
      "metadata": {
        "colab": {
          "base_uri": "https://localhost:8080/",
          "height": 330
        },
        "id": "fYVtLsJW2OBp",
        "outputId": "17f5bba1-1842-4cd4-a4e8-ca1d7e2b3a7e"
      },
      "execution_count": 62,
      "outputs": [
        {
          "output_type": "execute_result",
          "data": {
            "text/plain": [
              "                   Data_hora              idTweet  \\\n",
              "0  2022-07-31 08:41:01+00:00  1553662000097644546   \n",
              "1  2022-07-31 08:40:56+00:00  1553661978626899968   \n",
              "2  2022-07-31 08:40:49+00:00  1553661949694590977   \n",
              "3  2022-07-31 08:40:44+00:00  1553661931575054336   \n",
              "4  2022-07-31 08:40:32+00:00  1553661881889464320   \n",
              "\n",
              "                                               Tweet Candidato  \\\n",
              "0  @brasildefato LULA COMPRADO ALCKEMIN https://t...      Lula   \n",
              "1  @senadorhumberto @CamiloSantanaCE @elmanofreit...      Lula   \n",
              "2  @LulaOficial PQP o cara tem q ser muito idiota...      Lula   \n",
              "3  @kazuhaC1G1P1 HY LULAAA. Kalo gua sukanya film...      Lula   \n",
              "4  @Rocha7591 E a do Lula não põe ?? 73.000,00 po...      Lula   \n",
              "\n",
              "                                         Tweet_limpo  \n",
              "0  @brasildefato lula comprado alckemin https://t...  \n",
              "1  @senadorhumberto @camilosantanace @elmanofreit...  \n",
              "2  @lulaoficial pqp o cara tem q ser muito idiota...  \n",
              "3  @kazuhac1g1p1 hy lulaaa. kalo gua sukanya film...  \n",
              "4  @rocha7591 e a do lula não põe ?? 73.000,00 po...  "
            ],
            "text/html": [
              "\n",
              "  <div id=\"df-2553b4c0-c143-4f2e-bc17-4b5c8acac99b\">\n",
              "    <div class=\"colab-df-container\">\n",
              "      <div>\n",
              "<style scoped>\n",
              "    .dataframe tbody tr th:only-of-type {\n",
              "        vertical-align: middle;\n",
              "    }\n",
              "\n",
              "    .dataframe tbody tr th {\n",
              "        vertical-align: top;\n",
              "    }\n",
              "\n",
              "    .dataframe thead th {\n",
              "        text-align: right;\n",
              "    }\n",
              "</style>\n",
              "<table border=\"1\" class=\"dataframe\">\n",
              "  <thead>\n",
              "    <tr style=\"text-align: right;\">\n",
              "      <th></th>\n",
              "      <th>Data_hora</th>\n",
              "      <th>idTweet</th>\n",
              "      <th>Tweet</th>\n",
              "      <th>Candidato</th>\n",
              "      <th>Tweet_limpo</th>\n",
              "    </tr>\n",
              "  </thead>\n",
              "  <tbody>\n",
              "    <tr>\n",
              "      <th>0</th>\n",
              "      <td>2022-07-31 08:41:01+00:00</td>\n",
              "      <td>1553662000097644546</td>\n",
              "      <td>@brasildefato LULA COMPRADO ALCKEMIN https://t...</td>\n",
              "      <td>Lula</td>\n",
              "      <td>@brasildefato lula comprado alckemin https://t...</td>\n",
              "    </tr>\n",
              "    <tr>\n",
              "      <th>1</th>\n",
              "      <td>2022-07-31 08:40:56+00:00</td>\n",
              "      <td>1553661978626899968</td>\n",
              "      <td>@senadorhumberto @CamiloSantanaCE @elmanofreit...</td>\n",
              "      <td>Lula</td>\n",
              "      <td>@senadorhumberto @camilosantanace @elmanofreit...</td>\n",
              "    </tr>\n",
              "    <tr>\n",
              "      <th>2</th>\n",
              "      <td>2022-07-31 08:40:49+00:00</td>\n",
              "      <td>1553661949694590977</td>\n",
              "      <td>@LulaOficial PQP o cara tem q ser muito idiota...</td>\n",
              "      <td>Lula</td>\n",
              "      <td>@lulaoficial pqp o cara tem q ser muito idiota...</td>\n",
              "    </tr>\n",
              "    <tr>\n",
              "      <th>3</th>\n",
              "      <td>2022-07-31 08:40:44+00:00</td>\n",
              "      <td>1553661931575054336</td>\n",
              "      <td>@kazuhaC1G1P1 HY LULAAA. Kalo gua sukanya film...</td>\n",
              "      <td>Lula</td>\n",
              "      <td>@kazuhac1g1p1 hy lulaaa. kalo gua sukanya film...</td>\n",
              "    </tr>\n",
              "    <tr>\n",
              "      <th>4</th>\n",
              "      <td>2022-07-31 08:40:32+00:00</td>\n",
              "      <td>1553661881889464320</td>\n",
              "      <td>@Rocha7591 E a do Lula não põe ?? 73.000,00 po...</td>\n",
              "      <td>Lula</td>\n",
              "      <td>@rocha7591 e a do lula não põe ?? 73.000,00 po...</td>\n",
              "    </tr>\n",
              "  </tbody>\n",
              "</table>\n",
              "</div>\n",
              "      <button class=\"colab-df-convert\" onclick=\"convertToInteractive('df-2553b4c0-c143-4f2e-bc17-4b5c8acac99b')\"\n",
              "              title=\"Convert this dataframe to an interactive table.\"\n",
              "              style=\"display:none;\">\n",
              "        \n",
              "  <svg xmlns=\"http://www.w3.org/2000/svg\" height=\"24px\"viewBox=\"0 0 24 24\"\n",
              "       width=\"24px\">\n",
              "    <path d=\"M0 0h24v24H0V0z\" fill=\"none\"/>\n",
              "    <path d=\"M18.56 5.44l.94 2.06.94-2.06 2.06-.94-2.06-.94-.94-2.06-.94 2.06-2.06.94zm-11 1L8.5 8.5l.94-2.06 2.06-.94-2.06-.94L8.5 2.5l-.94 2.06-2.06.94zm10 10l.94 2.06.94-2.06 2.06-.94-2.06-.94-.94-2.06-.94 2.06-2.06.94z\"/><path d=\"M17.41 7.96l-1.37-1.37c-.4-.4-.92-.59-1.43-.59-.52 0-1.04.2-1.43.59L10.3 9.45l-7.72 7.72c-.78.78-.78 2.05 0 2.83L4 21.41c.39.39.9.59 1.41.59.51 0 1.02-.2 1.41-.59l7.78-7.78 2.81-2.81c.8-.78.8-2.07 0-2.86zM5.41 20L4 18.59l7.72-7.72 1.47 1.35L5.41 20z\"/>\n",
              "  </svg>\n",
              "      </button>\n",
              "      \n",
              "  <style>\n",
              "    .colab-df-container {\n",
              "      display:flex;\n",
              "      flex-wrap:wrap;\n",
              "      gap: 12px;\n",
              "    }\n",
              "\n",
              "    .colab-df-convert {\n",
              "      background-color: #E8F0FE;\n",
              "      border: none;\n",
              "      border-radius: 50%;\n",
              "      cursor: pointer;\n",
              "      display: none;\n",
              "      fill: #1967D2;\n",
              "      height: 32px;\n",
              "      padding: 0 0 0 0;\n",
              "      width: 32px;\n",
              "    }\n",
              "\n",
              "    .colab-df-convert:hover {\n",
              "      background-color: #E2EBFA;\n",
              "      box-shadow: 0px 1px 2px rgba(60, 64, 67, 0.3), 0px 1px 3px 1px rgba(60, 64, 67, 0.15);\n",
              "      fill: #174EA6;\n",
              "    }\n",
              "\n",
              "    [theme=dark] .colab-df-convert {\n",
              "      background-color: #3B4455;\n",
              "      fill: #D2E3FC;\n",
              "    }\n",
              "\n",
              "    [theme=dark] .colab-df-convert:hover {\n",
              "      background-color: #434B5C;\n",
              "      box-shadow: 0px 1px 3px 1px rgba(0, 0, 0, 0.15);\n",
              "      filter: drop-shadow(0px 1px 2px rgba(0, 0, 0, 0.3));\n",
              "      fill: #FFFFFF;\n",
              "    }\n",
              "  </style>\n",
              "\n",
              "      <script>\n",
              "        const buttonEl =\n",
              "          document.querySelector('#df-2553b4c0-c143-4f2e-bc17-4b5c8acac99b button.colab-df-convert');\n",
              "        buttonEl.style.display =\n",
              "          google.colab.kernel.accessAllowed ? 'block' : 'none';\n",
              "\n",
              "        async function convertToInteractive(key) {\n",
              "          const element = document.querySelector('#df-2553b4c0-c143-4f2e-bc17-4b5c8acac99b');\n",
              "          const dataTable =\n",
              "            await google.colab.kernel.invokeFunction('convertToInteractive',\n",
              "                                                     [key], {});\n",
              "          if (!dataTable) return;\n",
              "\n",
              "          const docLinkHtml = 'Like what you see? Visit the ' +\n",
              "            '<a target=\"_blank\" href=https://colab.research.google.com/notebooks/data_table.ipynb>data table notebook</a>'\n",
              "            + ' to learn more about interactive tables.';\n",
              "          element.innerHTML = '';\n",
              "          dataTable['output_type'] = 'display_data';\n",
              "          await google.colab.output.renderOutput(dataTable, element);\n",
              "          const docLink = document.createElement('div');\n",
              "          docLink.innerHTML = docLinkHtml;\n",
              "          element.appendChild(docLink);\n",
              "        }\n",
              "      </script>\n",
              "    </div>\n",
              "  </div>\n",
              "  "
            ]
          },
          "metadata": {},
          "execution_count": 62
        }
      ]
    },
    {
      "cell_type": "code",
      "source": [
        "dataframe_unico_candidatos.to_csv('dataframe_unico_candidatos_ok.csv',sep=',', index=False)"
      ],
      "metadata": {
        "id": "lMlqW_Ru2QiT"
      },
      "execution_count": 63,
      "outputs": []
    }
  ]
}