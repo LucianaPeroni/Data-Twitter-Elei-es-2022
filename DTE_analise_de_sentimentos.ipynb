{
  "nbformat": 4,
  "nbformat_minor": 0,
  "metadata": {
    "colab": {
      "name": "DTE_analise de sentimentos.ipynb",
      "provenance": [],
      "collapsed_sections": [],
      "authorship_tag": "ABX9TyOZQS/D+OhE+rHSi0RRzEaF",
      "include_colab_link": true
    },
    "kernelspec": {
      "name": "python3",
      "display_name": "Python 3"
    },
    "language_info": {
      "name": "python"
    }
  },
  "cells": [
    {
      "cell_type": "markdown",
      "metadata": {
        "id": "view-in-github",
        "colab_type": "text"
      },
      "source": [
        "<a href=\"https://colab.research.google.com/github/LucianaPeroni/Data-Twitter-Eleicoes-2022/blob/main/DTE_analise_de_sentimentos.ipynb\" target=\"_parent\"><img src=\"https://colab.research.google.com/assets/colab-badge.svg\" alt=\"Open In Colab\"/></a>"
      ]
    },
    {
      "cell_type": "markdown",
      "source": [
        "\n",
        "##Etapa 4 - Análise de Sentimentos"
      ],
      "metadata": {
        "id": "HBuUtOCX47yU"
      }
    },
    {
      "cell_type": "code",
      "source": [
        "pip install vaderSentiment"
      ],
      "metadata": {
        "colab": {
          "base_uri": "https://localhost:8080/"
        },
        "id": "Cd7deAbz5Zd4",
        "outputId": "134e6716-8d15-4bcf-ad91-840d312d4e0b"
      },
      "execution_count": 260,
      "outputs": [
        {
          "output_type": "stream",
          "name": "stdout",
          "text": [
            "Looking in indexes: https://pypi.org/simple, https://us-python.pkg.dev/colab-wheels/public/simple/\n",
            "Requirement already satisfied: vaderSentiment in /usr/local/lib/python3.7/dist-packages (3.3.2)\n",
            "Requirement already satisfied: requests in /usr/local/lib/python3.7/dist-packages (from vaderSentiment) (2.23.0)\n",
            "Requirement already satisfied: urllib3!=1.25.0,!=1.25.1,<1.26,>=1.21.1 in /usr/local/lib/python3.7/dist-packages (from requests->vaderSentiment) (1.24.3)\n",
            "Requirement already satisfied: idna<3,>=2.5 in /usr/local/lib/python3.7/dist-packages (from requests->vaderSentiment) (2.10)\n",
            "Requirement already satisfied: certifi>=2017.4.17 in /usr/local/lib/python3.7/dist-packages (from requests->vaderSentiment) (2022.6.15)\n",
            "Requirement already satisfied: chardet<4,>=3.0.2 in /usr/local/lib/python3.7/dist-packages (from requests->vaderSentiment) (3.0.4)\n"
          ]
        }
      ]
    },
    {
      "cell_type": "code",
      "source": [
        "pip install --upgrade vaderSentiment"
      ],
      "metadata": {
        "colab": {
          "base_uri": "https://localhost:8080/"
        },
        "id": "wJ090tzWpOJh",
        "outputId": "1935a92c-4091-4a65-8cfa-4f8bd25c0ea6"
      },
      "execution_count": 261,
      "outputs": [
        {
          "output_type": "stream",
          "name": "stdout",
          "text": [
            "Looking in indexes: https://pypi.org/simple, https://us-python.pkg.dev/colab-wheels/public/simple/\n",
            "Requirement already satisfied: vaderSentiment in /usr/local/lib/python3.7/dist-packages (3.3.2)\n",
            "Requirement already satisfied: requests in /usr/local/lib/python3.7/dist-packages (from vaderSentiment) (2.23.0)\n",
            "Requirement already satisfied: chardet<4,>=3.0.2 in /usr/local/lib/python3.7/dist-packages (from requests->vaderSentiment) (3.0.4)\n",
            "Requirement already satisfied: certifi>=2017.4.17 in /usr/local/lib/python3.7/dist-packages (from requests->vaderSentiment) (2022.6.15)\n",
            "Requirement already satisfied: urllib3!=1.25.0,!=1.25.1,<1.26,>=1.21.1 in /usr/local/lib/python3.7/dist-packages (from requests->vaderSentiment) (1.24.3)\n",
            "Requirement already satisfied: idna<3,>=2.5 in /usr/local/lib/python3.7/dist-packages (from requests->vaderSentiment) (2.10)\n"
          ]
        }
      ]
    },
    {
      "cell_type": "markdown",
      "source": [
        "Bibliotecas"
      ],
      "metadata": {
        "id": "zv3067fE5GM_"
      }
    },
    {
      "cell_type": "code",
      "source": [
        "import pandas as pd"
      ],
      "metadata": {
        "id": "ZClqzBbE5DFt"
      },
      "execution_count": 262,
      "outputs": []
    },
    {
      "cell_type": "code",
      "source": [
        "import re"
      ],
      "metadata": {
        "id": "ajzVVdgS9ekl"
      },
      "execution_count": 263,
      "outputs": []
    },
    {
      "cell_type": "code",
      "source": [
        "import matplotlib.pyplot as plt"
      ],
      "metadata": {
        "id": "9c2UtsmafwQ5"
      },
      "execution_count": 264,
      "outputs": []
    },
    {
      "cell_type": "code",
      "source": [
        "import seaborn as sns"
      ],
      "metadata": {
        "id": "gpFYPyLCgIgQ"
      },
      "execution_count": 265,
      "outputs": []
    },
    {
      "cell_type": "code",
      "source": [
        "import nltk # processamento de linguagem natural"
      ],
      "metadata": {
        "id": "4PVdMBXe6nE4"
      },
      "execution_count": 266,
      "outputs": []
    },
    {
      "cell_type": "code",
      "source": [
        "from nltk.sentiment.vader import SentimentIntensityAnalyzer as SIA\n",
        "from vaderSentiment.vaderSentiment import SentimentIntensityAnalyzer"
      ],
      "metadata": {
        "id": "Kmuk23x25joI"
      },
      "execution_count": 267,
      "outputs": []
    },
    {
      "cell_type": "markdown",
      "source": [
        "Dataframe"
      ],
      "metadata": {
        "id": "C0yPvMZ36FpX"
      }
    },
    {
      "cell_type": "code",
      "source": [
        "dataframe_sentimento=pd.read_csv('dataframe_unico_candidatos_ok.csv')"
      ],
      "metadata": {
        "id": "lPa2AxLI5JGf"
      },
      "execution_count": 268,
      "outputs": []
    },
    {
      "cell_type": "code",
      "source": [
        "dataframe_sentimento.head()"
      ],
      "metadata": {
        "colab": {
          "base_uri": "https://localhost:8080/",
          "height": 206
        },
        "id": "kSLqKAfh9TOR",
        "outputId": "3f53fe6e-adcc-46f0-e1c1-86b8e8ecbc70"
      },
      "execution_count": 269,
      "outputs": [
        {
          "output_type": "execute_result",
          "data": {
            "text/plain": [
              "                   Data_hora              idTweet  \\\n",
              "0  2022-07-31 08:41:01+00:00  1553662000097644546   \n",
              "1  2022-07-31 08:40:56+00:00  1553661978626899968   \n",
              "2  2022-07-31 08:40:49+00:00  1553661949694590977   \n",
              "3  2022-07-31 08:40:44+00:00  1553661931575054336   \n",
              "4  2022-07-31 08:40:32+00:00  1553661881889464320   \n",
              "\n",
              "                                               Tweet Candidato  \\\n",
              "0  @brasildefato LULA COMPRADO ALCKEMIN https://t...      Lula   \n",
              "1  @senadorhumberto @CamiloSantanaCE @elmanofreit...      Lula   \n",
              "2  @LulaOficial PQP o cara tem q ser muito idiota...      Lula   \n",
              "3  @kazuhaC1G1P1 HY LULAAA. Kalo gua sukanya film...      Lula   \n",
              "4  @Rocha7591 E a do Lula não põe ?? 73.000,00 po...      Lula   \n",
              "\n",
              "                                         Tweet_limpo  \n",
              "0  @brasildefato lula comprado alckemin https://t...  \n",
              "1  @senadorhumberto @camilosantanace @elmanofreit...  \n",
              "2  @lulaoficial pqp o cara tem q ser muito idiota...  \n",
              "3  @kazuhac1g1p1 hy lulaaa. kalo gua sukanya film...  \n",
              "4  @rocha7591 e a do lula não põe ?? 73.000,00 po...  "
            ],
            "text/html": [
              "\n",
              "  <div id=\"df-bc3dcc7d-1916-477e-be94-47382a451faf\">\n",
              "    <div class=\"colab-df-container\">\n",
              "      <div>\n",
              "<style scoped>\n",
              "    .dataframe tbody tr th:only-of-type {\n",
              "        vertical-align: middle;\n",
              "    }\n",
              "\n",
              "    .dataframe tbody tr th {\n",
              "        vertical-align: top;\n",
              "    }\n",
              "\n",
              "    .dataframe thead th {\n",
              "        text-align: right;\n",
              "    }\n",
              "</style>\n",
              "<table border=\"1\" class=\"dataframe\">\n",
              "  <thead>\n",
              "    <tr style=\"text-align: right;\">\n",
              "      <th></th>\n",
              "      <th>Data_hora</th>\n",
              "      <th>idTweet</th>\n",
              "      <th>Tweet</th>\n",
              "      <th>Candidato</th>\n",
              "      <th>Tweet_limpo</th>\n",
              "    </tr>\n",
              "  </thead>\n",
              "  <tbody>\n",
              "    <tr>\n",
              "      <th>0</th>\n",
              "      <td>2022-07-31 08:41:01+00:00</td>\n",
              "      <td>1553662000097644546</td>\n",
              "      <td>@brasildefato LULA COMPRADO ALCKEMIN https://t...</td>\n",
              "      <td>Lula</td>\n",
              "      <td>@brasildefato lula comprado alckemin https://t...</td>\n",
              "    </tr>\n",
              "    <tr>\n",
              "      <th>1</th>\n",
              "      <td>2022-07-31 08:40:56+00:00</td>\n",
              "      <td>1553661978626899968</td>\n",
              "      <td>@senadorhumberto @CamiloSantanaCE @elmanofreit...</td>\n",
              "      <td>Lula</td>\n",
              "      <td>@senadorhumberto @camilosantanace @elmanofreit...</td>\n",
              "    </tr>\n",
              "    <tr>\n",
              "      <th>2</th>\n",
              "      <td>2022-07-31 08:40:49+00:00</td>\n",
              "      <td>1553661949694590977</td>\n",
              "      <td>@LulaOficial PQP o cara tem q ser muito idiota...</td>\n",
              "      <td>Lula</td>\n",
              "      <td>@lulaoficial pqp o cara tem q ser muito idiota...</td>\n",
              "    </tr>\n",
              "    <tr>\n",
              "      <th>3</th>\n",
              "      <td>2022-07-31 08:40:44+00:00</td>\n",
              "      <td>1553661931575054336</td>\n",
              "      <td>@kazuhaC1G1P1 HY LULAAA. Kalo gua sukanya film...</td>\n",
              "      <td>Lula</td>\n",
              "      <td>@kazuhac1g1p1 hy lulaaa. kalo gua sukanya film...</td>\n",
              "    </tr>\n",
              "    <tr>\n",
              "      <th>4</th>\n",
              "      <td>2022-07-31 08:40:32+00:00</td>\n",
              "      <td>1553661881889464320</td>\n",
              "      <td>@Rocha7591 E a do Lula não põe ?? 73.000,00 po...</td>\n",
              "      <td>Lula</td>\n",
              "      <td>@rocha7591 e a do lula não põe ?? 73.000,00 po...</td>\n",
              "    </tr>\n",
              "  </tbody>\n",
              "</table>\n",
              "</div>\n",
              "      <button class=\"colab-df-convert\" onclick=\"convertToInteractive('df-bc3dcc7d-1916-477e-be94-47382a451faf')\"\n",
              "              title=\"Convert this dataframe to an interactive table.\"\n",
              "              style=\"display:none;\">\n",
              "        \n",
              "  <svg xmlns=\"http://www.w3.org/2000/svg\" height=\"24px\"viewBox=\"0 0 24 24\"\n",
              "       width=\"24px\">\n",
              "    <path d=\"M0 0h24v24H0V0z\" fill=\"none\"/>\n",
              "    <path d=\"M18.56 5.44l.94 2.06.94-2.06 2.06-.94-2.06-.94-.94-2.06-.94 2.06-2.06.94zm-11 1L8.5 8.5l.94-2.06 2.06-.94-2.06-.94L8.5 2.5l-.94 2.06-2.06.94zm10 10l.94 2.06.94-2.06 2.06-.94-2.06-.94-.94-2.06-.94 2.06-2.06.94z\"/><path d=\"M17.41 7.96l-1.37-1.37c-.4-.4-.92-.59-1.43-.59-.52 0-1.04.2-1.43.59L10.3 9.45l-7.72 7.72c-.78.78-.78 2.05 0 2.83L4 21.41c.39.39.9.59 1.41.59.51 0 1.02-.2 1.41-.59l7.78-7.78 2.81-2.81c.8-.78.8-2.07 0-2.86zM5.41 20L4 18.59l7.72-7.72 1.47 1.35L5.41 20z\"/>\n",
              "  </svg>\n",
              "      </button>\n",
              "      \n",
              "  <style>\n",
              "    .colab-df-container {\n",
              "      display:flex;\n",
              "      flex-wrap:wrap;\n",
              "      gap: 12px;\n",
              "    }\n",
              "\n",
              "    .colab-df-convert {\n",
              "      background-color: #E8F0FE;\n",
              "      border: none;\n",
              "      border-radius: 50%;\n",
              "      cursor: pointer;\n",
              "      display: none;\n",
              "      fill: #1967D2;\n",
              "      height: 32px;\n",
              "      padding: 0 0 0 0;\n",
              "      width: 32px;\n",
              "    }\n",
              "\n",
              "    .colab-df-convert:hover {\n",
              "      background-color: #E2EBFA;\n",
              "      box-shadow: 0px 1px 2px rgba(60, 64, 67, 0.3), 0px 1px 3px 1px rgba(60, 64, 67, 0.15);\n",
              "      fill: #174EA6;\n",
              "    }\n",
              "\n",
              "    [theme=dark] .colab-df-convert {\n",
              "      background-color: #3B4455;\n",
              "      fill: #D2E3FC;\n",
              "    }\n",
              "\n",
              "    [theme=dark] .colab-df-convert:hover {\n",
              "      background-color: #434B5C;\n",
              "      box-shadow: 0px 1px 3px 1px rgba(0, 0, 0, 0.15);\n",
              "      filter: drop-shadow(0px 1px 2px rgba(0, 0, 0, 0.3));\n",
              "      fill: #FFFFFF;\n",
              "    }\n",
              "  </style>\n",
              "\n",
              "      <script>\n",
              "        const buttonEl =\n",
              "          document.querySelector('#df-bc3dcc7d-1916-477e-be94-47382a451faf button.colab-df-convert');\n",
              "        buttonEl.style.display =\n",
              "          google.colab.kernel.accessAllowed ? 'block' : 'none';\n",
              "\n",
              "        async function convertToInteractive(key) {\n",
              "          const element = document.querySelector('#df-bc3dcc7d-1916-477e-be94-47382a451faf');\n",
              "          const dataTable =\n",
              "            await google.colab.kernel.invokeFunction('convertToInteractive',\n",
              "                                                     [key], {});\n",
              "          if (!dataTable) return;\n",
              "\n",
              "          const docLinkHtml = 'Like what you see? Visit the ' +\n",
              "            '<a target=\"_blank\" href=https://colab.research.google.com/notebooks/data_table.ipynb>data table notebook</a>'\n",
              "            + ' to learn more about interactive tables.';\n",
              "          element.innerHTML = '';\n",
              "          dataTable['output_type'] = 'display_data';\n",
              "          await google.colab.output.renderOutput(dataTable, element);\n",
              "          const docLink = document.createElement('div');\n",
              "          docLink.innerHTML = docLinkHtml;\n",
              "          element.appendChild(docLink);\n",
              "        }\n",
              "      </script>\n",
              "    </div>\n",
              "  </div>\n",
              "  "
            ]
          },
          "metadata": {},
          "execution_count": 269
        }
      ]
    },
    {
      "cell_type": "markdown",
      "source": [
        "Análise"
      ],
      "metadata": {
        "id": "23Ds2kV96Iyz"
      }
    },
    {
      "cell_type": "code",
      "source": [
        "analise_texto= SentimentIntensityAnalyzer()"
      ],
      "metadata": {
        "id": "2e5pSw4H7HKI"
      },
      "execution_count": 270,
      "outputs": []
    },
    {
      "cell_type": "code",
      "source": [
        "dataframe_sentimento['Sentimento']= dataframe_sentimento['Tweet_limpo'].apply(lambda i:analise_texto.polarity_scores(' '.join(re.findall(r'\\w+', i.lower()))))"
      ],
      "metadata": {
        "id": "utEq4Thm7VZu"
      },
      "execution_count": 271,
      "outputs": []
    },
    {
      "cell_type": "code",
      "source": [
        "dataframe_sentimento.head()"
      ],
      "metadata": {
        "colab": {
          "base_uri": "https://localhost:8080/",
          "height": 250
        },
        "id": "hZXuoAu28eTZ",
        "outputId": "f709929b-c264-4a32-86f4-365b0833f732"
      },
      "execution_count": 272,
      "outputs": [
        {
          "output_type": "execute_result",
          "data": {
            "text/plain": [
              "                   Data_hora              idTweet  \\\n",
              "0  2022-07-31 08:41:01+00:00  1553662000097644546   \n",
              "1  2022-07-31 08:40:56+00:00  1553661978626899968   \n",
              "2  2022-07-31 08:40:49+00:00  1553661949694590977   \n",
              "3  2022-07-31 08:40:44+00:00  1553661931575054336   \n",
              "4  2022-07-31 08:40:32+00:00  1553661881889464320   \n",
              "\n",
              "                                               Tweet Candidato  \\\n",
              "0  @brasildefato LULA COMPRADO ALCKEMIN https://t...      Lula   \n",
              "1  @senadorhumberto @CamiloSantanaCE @elmanofreit...      Lula   \n",
              "2  @LulaOficial PQP o cara tem q ser muito idiota...      Lula   \n",
              "3  @kazuhaC1G1P1 HY LULAAA. Kalo gua sukanya film...      Lula   \n",
              "4  @Rocha7591 E a do Lula não põe ?? 73.000,00 po...      Lula   \n",
              "\n",
              "                                         Tweet_limpo  \\\n",
              "0  @brasildefato lula comprado alckemin https://t...   \n",
              "1  @senadorhumberto @camilosantanace @elmanofreit...   \n",
              "2  @lulaoficial pqp o cara tem q ser muito idiota...   \n",
              "3  @kazuhac1g1p1 hy lulaaa. kalo gua sukanya film...   \n",
              "4  @rocha7591 e a do lula não põe ?? 73.000,00 po...   \n",
              "\n",
              "                                          Sentimento  \n",
              "0  {'neg': 0.0, 'neu': 1.0, 'pos': 0.0, 'compound...  \n",
              "1  {'neg': 0.0, 'neu': 1.0, 'pos': 0.0, 'compound...  \n",
              "2  {'neg': 0.042, 'neu': 0.958, 'pos': 0.0, 'comp...  \n",
              "3  {'neg': 0.145, 'neu': 0.855, 'pos': 0.0, 'comp...  \n",
              "4  {'neg': 0.0, 'neu': 1.0, 'pos': 0.0, 'compound...  "
            ],
            "text/html": [
              "\n",
              "  <div id=\"df-def2bc94-c9e6-4620-8130-8786d199cf92\">\n",
              "    <div class=\"colab-df-container\">\n",
              "      <div>\n",
              "<style scoped>\n",
              "    .dataframe tbody tr th:only-of-type {\n",
              "        vertical-align: middle;\n",
              "    }\n",
              "\n",
              "    .dataframe tbody tr th {\n",
              "        vertical-align: top;\n",
              "    }\n",
              "\n",
              "    .dataframe thead th {\n",
              "        text-align: right;\n",
              "    }\n",
              "</style>\n",
              "<table border=\"1\" class=\"dataframe\">\n",
              "  <thead>\n",
              "    <tr style=\"text-align: right;\">\n",
              "      <th></th>\n",
              "      <th>Data_hora</th>\n",
              "      <th>idTweet</th>\n",
              "      <th>Tweet</th>\n",
              "      <th>Candidato</th>\n",
              "      <th>Tweet_limpo</th>\n",
              "      <th>Sentimento</th>\n",
              "    </tr>\n",
              "  </thead>\n",
              "  <tbody>\n",
              "    <tr>\n",
              "      <th>0</th>\n",
              "      <td>2022-07-31 08:41:01+00:00</td>\n",
              "      <td>1553662000097644546</td>\n",
              "      <td>@brasildefato LULA COMPRADO ALCKEMIN https://t...</td>\n",
              "      <td>Lula</td>\n",
              "      <td>@brasildefato lula comprado alckemin https://t...</td>\n",
              "      <td>{'neg': 0.0, 'neu': 1.0, 'pos': 0.0, 'compound...</td>\n",
              "    </tr>\n",
              "    <tr>\n",
              "      <th>1</th>\n",
              "      <td>2022-07-31 08:40:56+00:00</td>\n",
              "      <td>1553661978626899968</td>\n",
              "      <td>@senadorhumberto @CamiloSantanaCE @elmanofreit...</td>\n",
              "      <td>Lula</td>\n",
              "      <td>@senadorhumberto @camilosantanace @elmanofreit...</td>\n",
              "      <td>{'neg': 0.0, 'neu': 1.0, 'pos': 0.0, 'compound...</td>\n",
              "    </tr>\n",
              "    <tr>\n",
              "      <th>2</th>\n",
              "      <td>2022-07-31 08:40:49+00:00</td>\n",
              "      <td>1553661949694590977</td>\n",
              "      <td>@LulaOficial PQP o cara tem q ser muito idiota...</td>\n",
              "      <td>Lula</td>\n",
              "      <td>@lulaoficial pqp o cara tem q ser muito idiota...</td>\n",
              "      <td>{'neg': 0.042, 'neu': 0.958, 'pos': 0.0, 'comp...</td>\n",
              "    </tr>\n",
              "    <tr>\n",
              "      <th>3</th>\n",
              "      <td>2022-07-31 08:40:44+00:00</td>\n",
              "      <td>1553661931575054336</td>\n",
              "      <td>@kazuhaC1G1P1 HY LULAAA. Kalo gua sukanya film...</td>\n",
              "      <td>Lula</td>\n",
              "      <td>@kazuhac1g1p1 hy lulaaa. kalo gua sukanya film...</td>\n",
              "      <td>{'neg': 0.145, 'neu': 0.855, 'pos': 0.0, 'comp...</td>\n",
              "    </tr>\n",
              "    <tr>\n",
              "      <th>4</th>\n",
              "      <td>2022-07-31 08:40:32+00:00</td>\n",
              "      <td>1553661881889464320</td>\n",
              "      <td>@Rocha7591 E a do Lula não põe ?? 73.000,00 po...</td>\n",
              "      <td>Lula</td>\n",
              "      <td>@rocha7591 e a do lula não põe ?? 73.000,00 po...</td>\n",
              "      <td>{'neg': 0.0, 'neu': 1.0, 'pos': 0.0, 'compound...</td>\n",
              "    </tr>\n",
              "  </tbody>\n",
              "</table>\n",
              "</div>\n",
              "      <button class=\"colab-df-convert\" onclick=\"convertToInteractive('df-def2bc94-c9e6-4620-8130-8786d199cf92')\"\n",
              "              title=\"Convert this dataframe to an interactive table.\"\n",
              "              style=\"display:none;\">\n",
              "        \n",
              "  <svg xmlns=\"http://www.w3.org/2000/svg\" height=\"24px\"viewBox=\"0 0 24 24\"\n",
              "       width=\"24px\">\n",
              "    <path d=\"M0 0h24v24H0V0z\" fill=\"none\"/>\n",
              "    <path d=\"M18.56 5.44l.94 2.06.94-2.06 2.06-.94-2.06-.94-.94-2.06-.94 2.06-2.06.94zm-11 1L8.5 8.5l.94-2.06 2.06-.94-2.06-.94L8.5 2.5l-.94 2.06-2.06.94zm10 10l.94 2.06.94-2.06 2.06-.94-2.06-.94-.94-2.06-.94 2.06-2.06.94z\"/><path d=\"M17.41 7.96l-1.37-1.37c-.4-.4-.92-.59-1.43-.59-.52 0-1.04.2-1.43.59L10.3 9.45l-7.72 7.72c-.78.78-.78 2.05 0 2.83L4 21.41c.39.39.9.59 1.41.59.51 0 1.02-.2 1.41-.59l7.78-7.78 2.81-2.81c.8-.78.8-2.07 0-2.86zM5.41 20L4 18.59l7.72-7.72 1.47 1.35L5.41 20z\"/>\n",
              "  </svg>\n",
              "      </button>\n",
              "      \n",
              "  <style>\n",
              "    .colab-df-container {\n",
              "      display:flex;\n",
              "      flex-wrap:wrap;\n",
              "      gap: 12px;\n",
              "    }\n",
              "\n",
              "    .colab-df-convert {\n",
              "      background-color: #E8F0FE;\n",
              "      border: none;\n",
              "      border-radius: 50%;\n",
              "      cursor: pointer;\n",
              "      display: none;\n",
              "      fill: #1967D2;\n",
              "      height: 32px;\n",
              "      padding: 0 0 0 0;\n",
              "      width: 32px;\n",
              "    }\n",
              "\n",
              "    .colab-df-convert:hover {\n",
              "      background-color: #E2EBFA;\n",
              "      box-shadow: 0px 1px 2px rgba(60, 64, 67, 0.3), 0px 1px 3px 1px rgba(60, 64, 67, 0.15);\n",
              "      fill: #174EA6;\n",
              "    }\n",
              "\n",
              "    [theme=dark] .colab-df-convert {\n",
              "      background-color: #3B4455;\n",
              "      fill: #D2E3FC;\n",
              "    }\n",
              "\n",
              "    [theme=dark] .colab-df-convert:hover {\n",
              "      background-color: #434B5C;\n",
              "      box-shadow: 0px 1px 3px 1px rgba(0, 0, 0, 0.15);\n",
              "      filter: drop-shadow(0px 1px 2px rgba(0, 0, 0, 0.3));\n",
              "      fill: #FFFFFF;\n",
              "    }\n",
              "  </style>\n",
              "\n",
              "      <script>\n",
              "        const buttonEl =\n",
              "          document.querySelector('#df-def2bc94-c9e6-4620-8130-8786d199cf92 button.colab-df-convert');\n",
              "        buttonEl.style.display =\n",
              "          google.colab.kernel.accessAllowed ? 'block' : 'none';\n",
              "\n",
              "        async function convertToInteractive(key) {\n",
              "          const element = document.querySelector('#df-def2bc94-c9e6-4620-8130-8786d199cf92');\n",
              "          const dataTable =\n",
              "            await google.colab.kernel.invokeFunction('convertToInteractive',\n",
              "                                                     [key], {});\n",
              "          if (!dataTable) return;\n",
              "\n",
              "          const docLinkHtml = 'Like what you see? Visit the ' +\n",
              "            '<a target=\"_blank\" href=https://colab.research.google.com/notebooks/data_table.ipynb>data table notebook</a>'\n",
              "            + ' to learn more about interactive tables.';\n",
              "          element.innerHTML = '';\n",
              "          dataTable['output_type'] = 'display_data';\n",
              "          await google.colab.output.renderOutput(dataTable, element);\n",
              "          const docLink = document.createElement('div');\n",
              "          docLink.innerHTML = docLinkHtml;\n",
              "          element.appendChild(docLink);\n",
              "        }\n",
              "      </script>\n",
              "    </div>\n",
              "  </div>\n",
              "  "
            ]
          },
          "metadata": {},
          "execution_count": 272
        }
      ]
    },
    {
      "cell_type": "code",
      "source": [
        "dataframe_sentimento['Sentimento']"
      ],
      "metadata": {
        "id": "ZE6cHvhf9l9M",
        "colab": {
          "base_uri": "https://localhost:8080/"
        },
        "outputId": "f982bbfb-8a67-4c9d-caa8-d5de9e673bdb"
      },
      "execution_count": 273,
      "outputs": [
        {
          "output_type": "execute_result",
          "data": {
            "text/plain": [
              "0      {'neg': 0.0, 'neu': 1.0, 'pos': 0.0, 'compound...\n",
              "1      {'neg': 0.0, 'neu': 1.0, 'pos': 0.0, 'compound...\n",
              "2      {'neg': 0.042, 'neu': 0.958, 'pos': 0.0, 'comp...\n",
              "3      {'neg': 0.145, 'neu': 0.855, 'pos': 0.0, 'comp...\n",
              "4      {'neg': 0.0, 'neu': 1.0, 'pos': 0.0, 'compound...\n",
              "                             ...                        \n",
              "448    {'neg': 0.0, 'neu': 1.0, 'pos': 0.0, 'compound...\n",
              "449    {'neg': 0.0, 'neu': 1.0, 'pos': 0.0, 'compound...\n",
              "450    {'neg': 0.0, 'neu': 1.0, 'pos': 0.0, 'compound...\n",
              "451    {'neg': 0.0, 'neu': 1.0, 'pos': 0.0, 'compound...\n",
              "452    {'neg': 0.0, 'neu': 1.0, 'pos': 0.0, 'compound...\n",
              "Name: Sentimento, Length: 453, dtype: object"
            ]
          },
          "metadata": {},
          "execution_count": 273
        }
      ]
    },
    {
      "cell_type": "code",
      "source": [
        "dataframe_sentimento['Positivo']= dataframe_sentimento['Sentimento'].apply(lambda i:i['pos'])\n",
        "dataframe_sentimento['Neutro']= dataframe_sentimento['Sentimento'].apply(lambda i:i['neu'])\n",
        "dataframe_sentimento['Negativo']= dataframe_sentimento['Sentimento'].apply(lambda i:i['neg'])\n",
        "dataframe_sentimento['Composicao']= dataframe_sentimento['Sentimento'].apply(lambda i:i['compound'])"
      ],
      "metadata": {
        "id": "ZoXwr659T9jZ"
      },
      "execution_count": 274,
      "outputs": []
    },
    {
      "cell_type": "code",
      "source": [
        "dataframe_sentimento.head()"
      ],
      "metadata": {
        "colab": {
          "base_uri": "https://localhost:8080/",
          "height": 337
        },
        "id": "v0YtFrnvVJxV",
        "outputId": "a01ef6f6-f4d0-4415-a24b-8f1b6b2e17b5"
      },
      "execution_count": 275,
      "outputs": [
        {
          "output_type": "execute_result",
          "data": {
            "text/plain": [
              "                   Data_hora              idTweet  \\\n",
              "0  2022-07-31 08:41:01+00:00  1553662000097644546   \n",
              "1  2022-07-31 08:40:56+00:00  1553661978626899968   \n",
              "2  2022-07-31 08:40:49+00:00  1553661949694590977   \n",
              "3  2022-07-31 08:40:44+00:00  1553661931575054336   \n",
              "4  2022-07-31 08:40:32+00:00  1553661881889464320   \n",
              "\n",
              "                                               Tweet Candidato  \\\n",
              "0  @brasildefato LULA COMPRADO ALCKEMIN https://t...      Lula   \n",
              "1  @senadorhumberto @CamiloSantanaCE @elmanofreit...      Lula   \n",
              "2  @LulaOficial PQP o cara tem q ser muito idiota...      Lula   \n",
              "3  @kazuhaC1G1P1 HY LULAAA. Kalo gua sukanya film...      Lula   \n",
              "4  @Rocha7591 E a do Lula não põe ?? 73.000,00 po...      Lula   \n",
              "\n",
              "                                         Tweet_limpo  \\\n",
              "0  @brasildefato lula comprado alckemin https://t...   \n",
              "1  @senadorhumberto @camilosantanace @elmanofreit...   \n",
              "2  @lulaoficial pqp o cara tem q ser muito idiota...   \n",
              "3  @kazuhac1g1p1 hy lulaaa. kalo gua sukanya film...   \n",
              "4  @rocha7591 e a do lula não põe ?? 73.000,00 po...   \n",
              "\n",
              "                                          Sentimento  Positivo  Neutro  \\\n",
              "0  {'neg': 0.0, 'neu': 1.0, 'pos': 0.0, 'compound...       0.0   1.000   \n",
              "1  {'neg': 0.0, 'neu': 1.0, 'pos': 0.0, 'compound...       0.0   1.000   \n",
              "2  {'neg': 0.042, 'neu': 0.958, 'pos': 0.0, 'comp...       0.0   0.958   \n",
              "3  {'neg': 0.145, 'neu': 0.855, 'pos': 0.0, 'comp...       0.0   0.855   \n",
              "4  {'neg': 0.0, 'neu': 1.0, 'pos': 0.0, 'compound...       0.0   1.000   \n",
              "\n",
              "   Negativo  Composicao  \n",
              "0     0.000      0.0000  \n",
              "1     0.000      0.0000  \n",
              "2     0.042     -0.2960  \n",
              "3     0.145     -0.5994  \n",
              "4     0.000      0.0000  "
            ],
            "text/html": [
              "\n",
              "  <div id=\"df-ca6f5250-ba37-463c-919f-631f92b72f45\">\n",
              "    <div class=\"colab-df-container\">\n",
              "      <div>\n",
              "<style scoped>\n",
              "    .dataframe tbody tr th:only-of-type {\n",
              "        vertical-align: middle;\n",
              "    }\n",
              "\n",
              "    .dataframe tbody tr th {\n",
              "        vertical-align: top;\n",
              "    }\n",
              "\n",
              "    .dataframe thead th {\n",
              "        text-align: right;\n",
              "    }\n",
              "</style>\n",
              "<table border=\"1\" class=\"dataframe\">\n",
              "  <thead>\n",
              "    <tr style=\"text-align: right;\">\n",
              "      <th></th>\n",
              "      <th>Data_hora</th>\n",
              "      <th>idTweet</th>\n",
              "      <th>Tweet</th>\n",
              "      <th>Candidato</th>\n",
              "      <th>Tweet_limpo</th>\n",
              "      <th>Sentimento</th>\n",
              "      <th>Positivo</th>\n",
              "      <th>Neutro</th>\n",
              "      <th>Negativo</th>\n",
              "      <th>Composicao</th>\n",
              "    </tr>\n",
              "  </thead>\n",
              "  <tbody>\n",
              "    <tr>\n",
              "      <th>0</th>\n",
              "      <td>2022-07-31 08:41:01+00:00</td>\n",
              "      <td>1553662000097644546</td>\n",
              "      <td>@brasildefato LULA COMPRADO ALCKEMIN https://t...</td>\n",
              "      <td>Lula</td>\n",
              "      <td>@brasildefato lula comprado alckemin https://t...</td>\n",
              "      <td>{'neg': 0.0, 'neu': 1.0, 'pos': 0.0, 'compound...</td>\n",
              "      <td>0.0</td>\n",
              "      <td>1.000</td>\n",
              "      <td>0.000</td>\n",
              "      <td>0.0000</td>\n",
              "    </tr>\n",
              "    <tr>\n",
              "      <th>1</th>\n",
              "      <td>2022-07-31 08:40:56+00:00</td>\n",
              "      <td>1553661978626899968</td>\n",
              "      <td>@senadorhumberto @CamiloSantanaCE @elmanofreit...</td>\n",
              "      <td>Lula</td>\n",
              "      <td>@senadorhumberto @camilosantanace @elmanofreit...</td>\n",
              "      <td>{'neg': 0.0, 'neu': 1.0, 'pos': 0.0, 'compound...</td>\n",
              "      <td>0.0</td>\n",
              "      <td>1.000</td>\n",
              "      <td>0.000</td>\n",
              "      <td>0.0000</td>\n",
              "    </tr>\n",
              "    <tr>\n",
              "      <th>2</th>\n",
              "      <td>2022-07-31 08:40:49+00:00</td>\n",
              "      <td>1553661949694590977</td>\n",
              "      <td>@LulaOficial PQP o cara tem q ser muito idiota...</td>\n",
              "      <td>Lula</td>\n",
              "      <td>@lulaoficial pqp o cara tem q ser muito idiota...</td>\n",
              "      <td>{'neg': 0.042, 'neu': 0.958, 'pos': 0.0, 'comp...</td>\n",
              "      <td>0.0</td>\n",
              "      <td>0.958</td>\n",
              "      <td>0.042</td>\n",
              "      <td>-0.2960</td>\n",
              "    </tr>\n",
              "    <tr>\n",
              "      <th>3</th>\n",
              "      <td>2022-07-31 08:40:44+00:00</td>\n",
              "      <td>1553661931575054336</td>\n",
              "      <td>@kazuhaC1G1P1 HY LULAAA. Kalo gua sukanya film...</td>\n",
              "      <td>Lula</td>\n",
              "      <td>@kazuhac1g1p1 hy lulaaa. kalo gua sukanya film...</td>\n",
              "      <td>{'neg': 0.145, 'neu': 0.855, 'pos': 0.0, 'comp...</td>\n",
              "      <td>0.0</td>\n",
              "      <td>0.855</td>\n",
              "      <td>0.145</td>\n",
              "      <td>-0.5994</td>\n",
              "    </tr>\n",
              "    <tr>\n",
              "      <th>4</th>\n",
              "      <td>2022-07-31 08:40:32+00:00</td>\n",
              "      <td>1553661881889464320</td>\n",
              "      <td>@Rocha7591 E a do Lula não põe ?? 73.000,00 po...</td>\n",
              "      <td>Lula</td>\n",
              "      <td>@rocha7591 e a do lula não põe ?? 73.000,00 po...</td>\n",
              "      <td>{'neg': 0.0, 'neu': 1.0, 'pos': 0.0, 'compound...</td>\n",
              "      <td>0.0</td>\n",
              "      <td>1.000</td>\n",
              "      <td>0.000</td>\n",
              "      <td>0.0000</td>\n",
              "    </tr>\n",
              "  </tbody>\n",
              "</table>\n",
              "</div>\n",
              "      <button class=\"colab-df-convert\" onclick=\"convertToInteractive('df-ca6f5250-ba37-463c-919f-631f92b72f45')\"\n",
              "              title=\"Convert this dataframe to an interactive table.\"\n",
              "              style=\"display:none;\">\n",
              "        \n",
              "  <svg xmlns=\"http://www.w3.org/2000/svg\" height=\"24px\"viewBox=\"0 0 24 24\"\n",
              "       width=\"24px\">\n",
              "    <path d=\"M0 0h24v24H0V0z\" fill=\"none\"/>\n",
              "    <path d=\"M18.56 5.44l.94 2.06.94-2.06 2.06-.94-2.06-.94-.94-2.06-.94 2.06-2.06.94zm-11 1L8.5 8.5l.94-2.06 2.06-.94-2.06-.94L8.5 2.5l-.94 2.06-2.06.94zm10 10l.94 2.06.94-2.06 2.06-.94-2.06-.94-.94-2.06-.94 2.06-2.06.94z\"/><path d=\"M17.41 7.96l-1.37-1.37c-.4-.4-.92-.59-1.43-.59-.52 0-1.04.2-1.43.59L10.3 9.45l-7.72 7.72c-.78.78-.78 2.05 0 2.83L4 21.41c.39.39.9.59 1.41.59.51 0 1.02-.2 1.41-.59l7.78-7.78 2.81-2.81c.8-.78.8-2.07 0-2.86zM5.41 20L4 18.59l7.72-7.72 1.47 1.35L5.41 20z\"/>\n",
              "  </svg>\n",
              "      </button>\n",
              "      \n",
              "  <style>\n",
              "    .colab-df-container {\n",
              "      display:flex;\n",
              "      flex-wrap:wrap;\n",
              "      gap: 12px;\n",
              "    }\n",
              "\n",
              "    .colab-df-convert {\n",
              "      background-color: #E8F0FE;\n",
              "      border: none;\n",
              "      border-radius: 50%;\n",
              "      cursor: pointer;\n",
              "      display: none;\n",
              "      fill: #1967D2;\n",
              "      height: 32px;\n",
              "      padding: 0 0 0 0;\n",
              "      width: 32px;\n",
              "    }\n",
              "\n",
              "    .colab-df-convert:hover {\n",
              "      background-color: #E2EBFA;\n",
              "      box-shadow: 0px 1px 2px rgba(60, 64, 67, 0.3), 0px 1px 3px 1px rgba(60, 64, 67, 0.15);\n",
              "      fill: #174EA6;\n",
              "    }\n",
              "\n",
              "    [theme=dark] .colab-df-convert {\n",
              "      background-color: #3B4455;\n",
              "      fill: #D2E3FC;\n",
              "    }\n",
              "\n",
              "    [theme=dark] .colab-df-convert:hover {\n",
              "      background-color: #434B5C;\n",
              "      box-shadow: 0px 1px 3px 1px rgba(0, 0, 0, 0.15);\n",
              "      filter: drop-shadow(0px 1px 2px rgba(0, 0, 0, 0.3));\n",
              "      fill: #FFFFFF;\n",
              "    }\n",
              "  </style>\n",
              "\n",
              "      <script>\n",
              "        const buttonEl =\n",
              "          document.querySelector('#df-ca6f5250-ba37-463c-919f-631f92b72f45 button.colab-df-convert');\n",
              "        buttonEl.style.display =\n",
              "          google.colab.kernel.accessAllowed ? 'block' : 'none';\n",
              "\n",
              "        async function convertToInteractive(key) {\n",
              "          const element = document.querySelector('#df-ca6f5250-ba37-463c-919f-631f92b72f45');\n",
              "          const dataTable =\n",
              "            await google.colab.kernel.invokeFunction('convertToInteractive',\n",
              "                                                     [key], {});\n",
              "          if (!dataTable) return;\n",
              "\n",
              "          const docLinkHtml = 'Like what you see? Visit the ' +\n",
              "            '<a target=\"_blank\" href=https://colab.research.google.com/notebooks/data_table.ipynb>data table notebook</a>'\n",
              "            + ' to learn more about interactive tables.';\n",
              "          element.innerHTML = '';\n",
              "          dataTable['output_type'] = 'display_data';\n",
              "          await google.colab.output.renderOutput(dataTable, element);\n",
              "          const docLink = document.createElement('div');\n",
              "          docLink.innerHTML = docLinkHtml;\n",
              "          element.appendChild(docLink);\n",
              "        }\n",
              "      </script>\n",
              "    </div>\n",
              "  </div>\n",
              "  "
            ]
          },
          "metadata": {},
          "execution_count": 275
        }
      ]
    },
    {
      "cell_type": "code",
      "source": [
        "sentimento=[]"
      ],
      "metadata": {
        "id": "Tnw1o_IRZMFm"
      },
      "execution_count": 276,
      "outputs": []
    },
    {
      "cell_type": "code",
      "source": [
        "for i in dataframe_sentimento['Composicao']:\n",
        "  if i>= 0.05:\n",
        "    sentimento.append('Positivo')\n",
        "  elif i<=(-0.05):\n",
        "    sentimento.append('Negativo')\n",
        "  else:\n",
        "    sentimento.append('Neutro')"
      ],
      "metadata": {
        "id": "mQfrcEf6VLFn"
      },
      "execution_count": 277,
      "outputs": []
    },
    {
      "cell_type": "code",
      "source": [
        "sentimento"
      ],
      "metadata": {
        "colab": {
          "base_uri": "https://localhost:8080/"
        },
        "id": "1F4AiNYgZNzK",
        "outputId": "885f8676-f3c0-431f-99e5-01ce684567c3"
      },
      "execution_count": 278,
      "outputs": [
        {
          "output_type": "execute_result",
          "data": {
            "text/plain": [
              "['Neutro',\n",
              " 'Neutro',\n",
              " 'Negativo',\n",
              " 'Negativo',\n",
              " 'Neutro',\n",
              " 'Negativo',\n",
              " 'Neutro',\n",
              " 'Neutro',\n",
              " 'Neutro',\n",
              " 'Neutro',\n",
              " 'Neutro',\n",
              " 'Neutro',\n",
              " 'Neutro',\n",
              " 'Neutro',\n",
              " 'Neutro',\n",
              " 'Negativo',\n",
              " 'Neutro',\n",
              " 'Neutro',\n",
              " 'Neutro',\n",
              " 'Neutro',\n",
              " 'Negativo',\n",
              " 'Neutro',\n",
              " 'Negativo',\n",
              " 'Neutro',\n",
              " 'Neutro',\n",
              " 'Neutro',\n",
              " 'Negativo',\n",
              " 'Negativo',\n",
              " 'Negativo',\n",
              " 'Neutro',\n",
              " 'Neutro',\n",
              " 'Positivo',\n",
              " 'Positivo',\n",
              " 'Neutro',\n",
              " 'Neutro',\n",
              " 'Negativo',\n",
              " 'Positivo',\n",
              " 'Neutro',\n",
              " 'Neutro',\n",
              " 'Neutro',\n",
              " 'Neutro',\n",
              " 'Negativo',\n",
              " 'Negativo',\n",
              " 'Negativo',\n",
              " 'Neutro',\n",
              " 'Neutro',\n",
              " 'Neutro',\n",
              " 'Neutro',\n",
              " 'Neutro',\n",
              " 'Neutro',\n",
              " 'Negativo',\n",
              " 'Neutro',\n",
              " 'Negativo',\n",
              " 'Neutro',\n",
              " 'Neutro',\n",
              " 'Negativo',\n",
              " 'Neutro',\n",
              " 'Neutro',\n",
              " 'Neutro',\n",
              " 'Neutro',\n",
              " 'Neutro',\n",
              " 'Neutro',\n",
              " 'Neutro',\n",
              " 'Neutro',\n",
              " 'Neutro',\n",
              " 'Neutro',\n",
              " 'Neutro',\n",
              " 'Neutro',\n",
              " 'Neutro',\n",
              " 'Neutro',\n",
              " 'Neutro',\n",
              " 'Neutro',\n",
              " 'Negativo',\n",
              " 'Negativo',\n",
              " 'Neutro',\n",
              " 'Positivo',\n",
              " 'Neutro',\n",
              " 'Neutro',\n",
              " 'Neutro',\n",
              " 'Neutro',\n",
              " 'Neutro',\n",
              " 'Neutro',\n",
              " 'Neutro',\n",
              " 'Neutro',\n",
              " 'Neutro',\n",
              " 'Negativo',\n",
              " 'Neutro',\n",
              " 'Neutro',\n",
              " 'Neutro',\n",
              " 'Neutro',\n",
              " 'Neutro',\n",
              " 'Neutro',\n",
              " 'Neutro',\n",
              " 'Neutro',\n",
              " 'Neutro',\n",
              " 'Neutro',\n",
              " 'Neutro',\n",
              " 'Neutro',\n",
              " 'Neutro',\n",
              " 'Neutro',\n",
              " 'Neutro',\n",
              " 'Neutro',\n",
              " 'Positivo',\n",
              " 'Neutro',\n",
              " 'Neutro',\n",
              " 'Neutro',\n",
              " 'Negativo',\n",
              " 'Neutro',\n",
              " 'Neutro',\n",
              " 'Positivo',\n",
              " 'Neutro',\n",
              " 'Neutro',\n",
              " 'Neutro',\n",
              " 'Neutro',\n",
              " 'Negativo',\n",
              " 'Neutro',\n",
              " 'Neutro',\n",
              " 'Neutro',\n",
              " 'Positivo',\n",
              " 'Negativo',\n",
              " 'Negativo',\n",
              " 'Neutro',\n",
              " 'Neutro',\n",
              " 'Negativo',\n",
              " 'Positivo',\n",
              " 'Neutro',\n",
              " 'Neutro',\n",
              " 'Neutro',\n",
              " 'Neutro',\n",
              " 'Neutro',\n",
              " 'Neutro',\n",
              " 'Neutro',\n",
              " 'Neutro',\n",
              " 'Neutro',\n",
              " 'Neutro',\n",
              " 'Neutro',\n",
              " 'Neutro',\n",
              " 'Neutro',\n",
              " 'Neutro',\n",
              " 'Negativo',\n",
              " 'Positivo',\n",
              " 'Neutro',\n",
              " 'Neutro',\n",
              " 'Neutro',\n",
              " 'Neutro',\n",
              " 'Neutro',\n",
              " 'Neutro',\n",
              " 'Neutro',\n",
              " 'Neutro',\n",
              " 'Neutro',\n",
              " 'Neutro',\n",
              " 'Neutro',\n",
              " 'Neutro',\n",
              " 'Negativo',\n",
              " 'Neutro',\n",
              " 'Neutro',\n",
              " 'Neutro',\n",
              " 'Negativo',\n",
              " 'Neutro',\n",
              " 'Neutro',\n",
              " 'Neutro',\n",
              " 'Negativo',\n",
              " 'Neutro',\n",
              " 'Neutro',\n",
              " 'Neutro',\n",
              " 'Neutro',\n",
              " 'Neutro',\n",
              " 'Negativo',\n",
              " 'Neutro',\n",
              " 'Neutro',\n",
              " 'Positivo',\n",
              " 'Neutro',\n",
              " 'Neutro',\n",
              " 'Neutro',\n",
              " 'Negativo',\n",
              " 'Neutro',\n",
              " 'Neutro',\n",
              " 'Positivo',\n",
              " 'Negativo',\n",
              " 'Negativo',\n",
              " 'Neutro',\n",
              " 'Neutro',\n",
              " 'Neutro',\n",
              " 'Neutro',\n",
              " 'Negativo',\n",
              " 'Negativo',\n",
              " 'Negativo',\n",
              " 'Negativo',\n",
              " 'Negativo',\n",
              " 'Neutro',\n",
              " 'Neutro',\n",
              " 'Neutro',\n",
              " 'Neutro',\n",
              " 'Neutro',\n",
              " 'Neutro',\n",
              " 'Neutro',\n",
              " 'Neutro',\n",
              " 'Neutro',\n",
              " 'Neutro',\n",
              " 'Neutro',\n",
              " 'Negativo',\n",
              " 'Neutro',\n",
              " 'Neutro',\n",
              " 'Neutro',\n",
              " 'Neutro',\n",
              " 'Negativo',\n",
              " 'Neutro',\n",
              " 'Neutro',\n",
              " 'Neutro',\n",
              " 'Neutro',\n",
              " 'Neutro',\n",
              " 'Neutro',\n",
              " 'Neutro',\n",
              " 'Neutro',\n",
              " 'Neutro',\n",
              " 'Neutro',\n",
              " 'Neutro',\n",
              " 'Neutro',\n",
              " 'Neutro',\n",
              " 'Neutro',\n",
              " 'Neutro',\n",
              " 'Neutro',\n",
              " 'Negativo',\n",
              " 'Negativo',\n",
              " 'Neutro',\n",
              " 'Neutro',\n",
              " 'Neutro',\n",
              " 'Negativo',\n",
              " 'Positivo',\n",
              " 'Neutro',\n",
              " 'Neutro',\n",
              " 'Neutro',\n",
              " 'Neutro',\n",
              " 'Neutro',\n",
              " 'Negativo',\n",
              " 'Neutro',\n",
              " 'Neutro',\n",
              " 'Negativo',\n",
              " 'Neutro',\n",
              " 'Neutro',\n",
              " 'Neutro',\n",
              " 'Neutro',\n",
              " 'Neutro',\n",
              " 'Neutro',\n",
              " 'Negativo',\n",
              " 'Neutro',\n",
              " 'Neutro',\n",
              " 'Negativo',\n",
              " 'Neutro',\n",
              " 'Neutro',\n",
              " 'Negativo',\n",
              " 'Neutro',\n",
              " 'Neutro',\n",
              " 'Neutro',\n",
              " 'Negativo',\n",
              " 'Neutro',\n",
              " 'Neutro',\n",
              " 'Neutro',\n",
              " 'Negativo',\n",
              " 'Neutro',\n",
              " 'Positivo',\n",
              " 'Neutro',\n",
              " 'Negativo',\n",
              " 'Negativo',\n",
              " 'Neutro',\n",
              " 'Negativo',\n",
              " 'Neutro',\n",
              " 'Neutro',\n",
              " 'Neutro',\n",
              " 'Negativo',\n",
              " 'Negativo',\n",
              " 'Neutro',\n",
              " 'Negativo',\n",
              " 'Neutro',\n",
              " 'Negativo',\n",
              " 'Neutro',\n",
              " 'Neutro',\n",
              " 'Positivo',\n",
              " 'Neutro',\n",
              " 'Neutro',\n",
              " 'Negativo',\n",
              " 'Neutro',\n",
              " 'Neutro',\n",
              " 'Negativo',\n",
              " 'Neutro',\n",
              " 'Neutro',\n",
              " 'Neutro',\n",
              " 'Negativo',\n",
              " 'Neutro',\n",
              " 'Neutro',\n",
              " 'Neutro',\n",
              " 'Neutro',\n",
              " 'Positivo',\n",
              " 'Negativo',\n",
              " 'Neutro',\n",
              " 'Neutro',\n",
              " 'Neutro',\n",
              " 'Neutro',\n",
              " 'Neutro',\n",
              " 'Neutro',\n",
              " 'Neutro',\n",
              " 'Neutro',\n",
              " 'Neutro',\n",
              " 'Neutro',\n",
              " 'Neutro',\n",
              " 'Neutro',\n",
              " 'Neutro',\n",
              " 'Neutro',\n",
              " 'Neutro',\n",
              " 'Neutro',\n",
              " 'Neutro',\n",
              " 'Neutro',\n",
              " 'Neutro',\n",
              " 'Neutro',\n",
              " 'Neutro',\n",
              " 'Neutro',\n",
              " 'Neutro',\n",
              " 'Neutro',\n",
              " 'Positivo',\n",
              " 'Neutro',\n",
              " 'Neutro',\n",
              " 'Neutro',\n",
              " 'Neutro',\n",
              " 'Neutro',\n",
              " 'Negativo',\n",
              " 'Neutro',\n",
              " 'Neutro',\n",
              " 'Neutro',\n",
              " 'Neutro',\n",
              " 'Neutro',\n",
              " 'Neutro',\n",
              " 'Neutro',\n",
              " 'Neutro',\n",
              " 'Neutro',\n",
              " 'Positivo',\n",
              " 'Neutro',\n",
              " 'Positivo',\n",
              " 'Neutro',\n",
              " 'Neutro',\n",
              " 'Neutro',\n",
              " 'Positivo',\n",
              " 'Negativo',\n",
              " 'Neutro',\n",
              " 'Neutro',\n",
              " 'Neutro',\n",
              " 'Negativo',\n",
              " 'Neutro',\n",
              " 'Neutro',\n",
              " 'Neutro',\n",
              " 'Neutro',\n",
              " 'Negativo',\n",
              " 'Neutro',\n",
              " 'Neutro',\n",
              " 'Neutro',\n",
              " 'Neutro',\n",
              " 'Positivo',\n",
              " 'Neutro',\n",
              " 'Neutro',\n",
              " 'Negativo',\n",
              " 'Negativo',\n",
              " 'Neutro',\n",
              " 'Neutro',\n",
              " 'Positivo',\n",
              " 'Neutro',\n",
              " 'Neutro',\n",
              " 'Neutro',\n",
              " 'Neutro',\n",
              " 'Neutro',\n",
              " 'Neutro',\n",
              " 'Neutro',\n",
              " 'Positivo',\n",
              " 'Negativo',\n",
              " 'Neutro',\n",
              " 'Neutro',\n",
              " 'Neutro',\n",
              " 'Negativo',\n",
              " 'Negativo',\n",
              " 'Negativo',\n",
              " 'Positivo',\n",
              " 'Positivo',\n",
              " 'Neutro',\n",
              " 'Neutro',\n",
              " 'Negativo',\n",
              " 'Positivo',\n",
              " 'Positivo',\n",
              " 'Neutro',\n",
              " 'Neutro',\n",
              " 'Neutro',\n",
              " 'Negativo',\n",
              " 'Negativo',\n",
              " 'Negativo',\n",
              " 'Neutro',\n",
              " 'Neutro',\n",
              " 'Neutro',\n",
              " 'Negativo',\n",
              " 'Neutro',\n",
              " 'Neutro',\n",
              " 'Neutro',\n",
              " 'Negativo',\n",
              " 'Neutro',\n",
              " 'Negativo',\n",
              " 'Neutro',\n",
              " 'Negativo',\n",
              " 'Neutro',\n",
              " 'Neutro',\n",
              " 'Neutro',\n",
              " 'Neutro',\n",
              " 'Neutro',\n",
              " 'Neutro',\n",
              " 'Neutro',\n",
              " 'Neutro',\n",
              " 'Neutro',\n",
              " 'Neutro',\n",
              " 'Negativo',\n",
              " 'Neutro',\n",
              " 'Neutro',\n",
              " 'Neutro',\n",
              " 'Neutro',\n",
              " 'Neutro',\n",
              " 'Neutro',\n",
              " 'Neutro',\n",
              " 'Neutro',\n",
              " 'Neutro',\n",
              " 'Neutro',\n",
              " 'Neutro',\n",
              " 'Neutro',\n",
              " 'Neutro',\n",
              " 'Neutro',\n",
              " 'Neutro',\n",
              " 'Negativo',\n",
              " 'Neutro',\n",
              " 'Neutro',\n",
              " 'Neutro',\n",
              " 'Neutro',\n",
              " 'Neutro',\n",
              " 'Negativo',\n",
              " 'Neutro',\n",
              " 'Neutro',\n",
              " 'Negativo',\n",
              " 'Neutro',\n",
              " 'Neutro',\n",
              " 'Neutro',\n",
              " 'Neutro',\n",
              " 'Neutro',\n",
              " 'Neutro',\n",
              " 'Neutro',\n",
              " 'Neutro',\n",
              " 'Neutro',\n",
              " 'Neutro',\n",
              " 'Neutro',\n",
              " 'Neutro',\n",
              " 'Neutro',\n",
              " 'Neutro']"
            ]
          },
          "metadata": {},
          "execution_count": 278
        }
      ]
    },
    {
      "cell_type": "code",
      "source": [
        "dataframe_sentimento['Sentimento_Final']=sentimento"
      ],
      "metadata": {
        "id": "D7ILkzAmZt_j"
      },
      "execution_count": 279,
      "outputs": []
    },
    {
      "cell_type": "code",
      "source": [
        "dataframe_sentimento.tail()"
      ],
      "metadata": {
        "colab": {
          "base_uri": "https://localhost:8080/",
          "height": 337
        },
        "id": "GjQa1rNuZ7MW",
        "outputId": "c2b7e84f-e842-431e-a9b6-bfc380c8f254"
      },
      "execution_count": 280,
      "outputs": [
        {
          "output_type": "execute_result",
          "data": {
            "text/plain": [
              "                     Data_hora              idTweet  \\\n",
              "448  2022-07-31 07:07:47+00:00  1553638537618137088   \n",
              "449  2022-07-31 07:07:00+00:00  1553638341328965632   \n",
              "450  2022-07-31 07:06:45+00:00  1553638276849885184   \n",
              "451  2022-07-31 07:06:43+00:00  1553638268801290240   \n",
              "452  2022-07-31 07:04:17+00:00  1553637659867840512   \n",
              "\n",
              "                                                 Tweet Candidato  \\\n",
              "448  @fedeonofri @Fen_church Se va bene una pizzeri...      Ciro   \n",
              "449  @cirogomes Ciro fazendo ciranda..logo vai cira...      Ciro   \n",
              "450  @Rosimeire7235 @ciro_nogueira @LuGamoradecor V...      Ciro   \n",
              "451  @beutik_company Pemain inti yg ga maen kemaren...      Ciro   \n",
              "452                                 @garcia_ciro ratio      Ciro   \n",
              "\n",
              "                                           Tweet_limpo  \\\n",
              "448  @fedeonofri @fen_church se va bene una pizzeri...   \n",
              "449  @cirogomes ciro fazendo ciranda..logo vai cira...   \n",
              "450  @rosimeire7235 @ciro_nogueira @lugamoradecor v...   \n",
              "451  @beutik_company pemain inti yg ga maen kemaren...   \n",
              "452                                 @garcia_ciro ratio   \n",
              "\n",
              "                                            Sentimento  Positivo  Neutro  \\\n",
              "448  {'neg': 0.0, 'neu': 1.0, 'pos': 0.0, 'compound...       0.0     1.0   \n",
              "449  {'neg': 0.0, 'neu': 1.0, 'pos': 0.0, 'compound...       0.0     1.0   \n",
              "450  {'neg': 0.0, 'neu': 1.0, 'pos': 0.0, 'compound...       0.0     1.0   \n",
              "451  {'neg': 0.0, 'neu': 1.0, 'pos': 0.0, 'compound...       0.0     1.0   \n",
              "452  {'neg': 0.0, 'neu': 1.0, 'pos': 0.0, 'compound...       0.0     1.0   \n",
              "\n",
              "     Negativo  Composicao Sentimento_Final  \n",
              "448       0.0         0.0           Neutro  \n",
              "449       0.0         0.0           Neutro  \n",
              "450       0.0         0.0           Neutro  \n",
              "451       0.0         0.0           Neutro  \n",
              "452       0.0         0.0           Neutro  "
            ],
            "text/html": [
              "\n",
              "  <div id=\"df-eb35b3c6-2fa5-43f6-ac90-0753b30df0a6\">\n",
              "    <div class=\"colab-df-container\">\n",
              "      <div>\n",
              "<style scoped>\n",
              "    .dataframe tbody tr th:only-of-type {\n",
              "        vertical-align: middle;\n",
              "    }\n",
              "\n",
              "    .dataframe tbody tr th {\n",
              "        vertical-align: top;\n",
              "    }\n",
              "\n",
              "    .dataframe thead th {\n",
              "        text-align: right;\n",
              "    }\n",
              "</style>\n",
              "<table border=\"1\" class=\"dataframe\">\n",
              "  <thead>\n",
              "    <tr style=\"text-align: right;\">\n",
              "      <th></th>\n",
              "      <th>Data_hora</th>\n",
              "      <th>idTweet</th>\n",
              "      <th>Tweet</th>\n",
              "      <th>Candidato</th>\n",
              "      <th>Tweet_limpo</th>\n",
              "      <th>Sentimento</th>\n",
              "      <th>Positivo</th>\n",
              "      <th>Neutro</th>\n",
              "      <th>Negativo</th>\n",
              "      <th>Composicao</th>\n",
              "      <th>Sentimento_Final</th>\n",
              "    </tr>\n",
              "  </thead>\n",
              "  <tbody>\n",
              "    <tr>\n",
              "      <th>448</th>\n",
              "      <td>2022-07-31 07:07:47+00:00</td>\n",
              "      <td>1553638537618137088</td>\n",
              "      <td>@fedeonofri @Fen_church Se va bene una pizzeri...</td>\n",
              "      <td>Ciro</td>\n",
              "      <td>@fedeonofri @fen_church se va bene una pizzeri...</td>\n",
              "      <td>{'neg': 0.0, 'neu': 1.0, 'pos': 0.0, 'compound...</td>\n",
              "      <td>0.0</td>\n",
              "      <td>1.0</td>\n",
              "      <td>0.0</td>\n",
              "      <td>0.0</td>\n",
              "      <td>Neutro</td>\n",
              "    </tr>\n",
              "    <tr>\n",
              "      <th>449</th>\n",
              "      <td>2022-07-31 07:07:00+00:00</td>\n",
              "      <td>1553638341328965632</td>\n",
              "      <td>@cirogomes Ciro fazendo ciranda..logo vai cira...</td>\n",
              "      <td>Ciro</td>\n",
              "      <td>@cirogomes ciro fazendo ciranda..logo vai cira...</td>\n",
              "      <td>{'neg': 0.0, 'neu': 1.0, 'pos': 0.0, 'compound...</td>\n",
              "      <td>0.0</td>\n",
              "      <td>1.0</td>\n",
              "      <td>0.0</td>\n",
              "      <td>0.0</td>\n",
              "      <td>Neutro</td>\n",
              "    </tr>\n",
              "    <tr>\n",
              "      <th>450</th>\n",
              "      <td>2022-07-31 07:06:45+00:00</td>\n",
              "      <td>1553638276849885184</td>\n",
              "      <td>@Rosimeire7235 @ciro_nogueira @LuGamoradecor V...</td>\n",
              "      <td>Ciro</td>\n",
              "      <td>@rosimeire7235 @ciro_nogueira @lugamoradecor v...</td>\n",
              "      <td>{'neg': 0.0, 'neu': 1.0, 'pos': 0.0, 'compound...</td>\n",
              "      <td>0.0</td>\n",
              "      <td>1.0</td>\n",
              "      <td>0.0</td>\n",
              "      <td>0.0</td>\n",
              "      <td>Neutro</td>\n",
              "    </tr>\n",
              "    <tr>\n",
              "      <th>451</th>\n",
              "      <td>2022-07-31 07:06:43+00:00</td>\n",
              "      <td>1553638268801290240</td>\n",
              "      <td>@beutik_company Pemain inti yg ga maen kemaren...</td>\n",
              "      <td>Ciro</td>\n",
              "      <td>@beutik_company pemain inti yg ga maen kemaren...</td>\n",
              "      <td>{'neg': 0.0, 'neu': 1.0, 'pos': 0.0, 'compound...</td>\n",
              "      <td>0.0</td>\n",
              "      <td>1.0</td>\n",
              "      <td>0.0</td>\n",
              "      <td>0.0</td>\n",
              "      <td>Neutro</td>\n",
              "    </tr>\n",
              "    <tr>\n",
              "      <th>452</th>\n",
              "      <td>2022-07-31 07:04:17+00:00</td>\n",
              "      <td>1553637659867840512</td>\n",
              "      <td>@garcia_ciro ratio</td>\n",
              "      <td>Ciro</td>\n",
              "      <td>@garcia_ciro ratio</td>\n",
              "      <td>{'neg': 0.0, 'neu': 1.0, 'pos': 0.0, 'compound...</td>\n",
              "      <td>0.0</td>\n",
              "      <td>1.0</td>\n",
              "      <td>0.0</td>\n",
              "      <td>0.0</td>\n",
              "      <td>Neutro</td>\n",
              "    </tr>\n",
              "  </tbody>\n",
              "</table>\n",
              "</div>\n",
              "      <button class=\"colab-df-convert\" onclick=\"convertToInteractive('df-eb35b3c6-2fa5-43f6-ac90-0753b30df0a6')\"\n",
              "              title=\"Convert this dataframe to an interactive table.\"\n",
              "              style=\"display:none;\">\n",
              "        \n",
              "  <svg xmlns=\"http://www.w3.org/2000/svg\" height=\"24px\"viewBox=\"0 0 24 24\"\n",
              "       width=\"24px\">\n",
              "    <path d=\"M0 0h24v24H0V0z\" fill=\"none\"/>\n",
              "    <path d=\"M18.56 5.44l.94 2.06.94-2.06 2.06-.94-2.06-.94-.94-2.06-.94 2.06-2.06.94zm-11 1L8.5 8.5l.94-2.06 2.06-.94-2.06-.94L8.5 2.5l-.94 2.06-2.06.94zm10 10l.94 2.06.94-2.06 2.06-.94-2.06-.94-.94-2.06-.94 2.06-2.06.94z\"/><path d=\"M17.41 7.96l-1.37-1.37c-.4-.4-.92-.59-1.43-.59-.52 0-1.04.2-1.43.59L10.3 9.45l-7.72 7.72c-.78.78-.78 2.05 0 2.83L4 21.41c.39.39.9.59 1.41.59.51 0 1.02-.2 1.41-.59l7.78-7.78 2.81-2.81c.8-.78.8-2.07 0-2.86zM5.41 20L4 18.59l7.72-7.72 1.47 1.35L5.41 20z\"/>\n",
              "  </svg>\n",
              "      </button>\n",
              "      \n",
              "  <style>\n",
              "    .colab-df-container {\n",
              "      display:flex;\n",
              "      flex-wrap:wrap;\n",
              "      gap: 12px;\n",
              "    }\n",
              "\n",
              "    .colab-df-convert {\n",
              "      background-color: #E8F0FE;\n",
              "      border: none;\n",
              "      border-radius: 50%;\n",
              "      cursor: pointer;\n",
              "      display: none;\n",
              "      fill: #1967D2;\n",
              "      height: 32px;\n",
              "      padding: 0 0 0 0;\n",
              "      width: 32px;\n",
              "    }\n",
              "\n",
              "    .colab-df-convert:hover {\n",
              "      background-color: #E2EBFA;\n",
              "      box-shadow: 0px 1px 2px rgba(60, 64, 67, 0.3), 0px 1px 3px 1px rgba(60, 64, 67, 0.15);\n",
              "      fill: #174EA6;\n",
              "    }\n",
              "\n",
              "    [theme=dark] .colab-df-convert {\n",
              "      background-color: #3B4455;\n",
              "      fill: #D2E3FC;\n",
              "    }\n",
              "\n",
              "    [theme=dark] .colab-df-convert:hover {\n",
              "      background-color: #434B5C;\n",
              "      box-shadow: 0px 1px 3px 1px rgba(0, 0, 0, 0.15);\n",
              "      filter: drop-shadow(0px 1px 2px rgba(0, 0, 0, 0.3));\n",
              "      fill: #FFFFFF;\n",
              "    }\n",
              "  </style>\n",
              "\n",
              "      <script>\n",
              "        const buttonEl =\n",
              "          document.querySelector('#df-eb35b3c6-2fa5-43f6-ac90-0753b30df0a6 button.colab-df-convert');\n",
              "        buttonEl.style.display =\n",
              "          google.colab.kernel.accessAllowed ? 'block' : 'none';\n",
              "\n",
              "        async function convertToInteractive(key) {\n",
              "          const element = document.querySelector('#df-eb35b3c6-2fa5-43f6-ac90-0753b30df0a6');\n",
              "          const dataTable =\n",
              "            await google.colab.kernel.invokeFunction('convertToInteractive',\n",
              "                                                     [key], {});\n",
              "          if (!dataTable) return;\n",
              "\n",
              "          const docLinkHtml = 'Like what you see? Visit the ' +\n",
              "            '<a target=\"_blank\" href=https://colab.research.google.com/notebooks/data_table.ipynb>data table notebook</a>'\n",
              "            + ' to learn more about interactive tables.';\n",
              "          element.innerHTML = '';\n",
              "          dataTable['output_type'] = 'display_data';\n",
              "          await google.colab.output.renderOutput(dataTable, element);\n",
              "          const docLink = document.createElement('div');\n",
              "          docLink.innerHTML = docLinkHtml;\n",
              "          element.appendChild(docLink);\n",
              "        }\n",
              "      </script>\n",
              "    </div>\n",
              "  </div>\n",
              "  "
            ]
          },
          "metadata": {},
          "execution_count": 280
        }
      ]
    },
    {
      "cell_type": "code",
      "source": [
        "dataframe_sentimento['Sentimento_Final'].value_counts()"
      ],
      "metadata": {
        "colab": {
          "base_uri": "https://localhost:8080/"
        },
        "id": "MnN3BPASZ-cL",
        "outputId": "46f38fdf-9bc1-4af9-d32c-68239977f5b1"
      },
      "execution_count": 281,
      "outputs": [
        {
          "output_type": "execute_result",
          "data": {
            "text/plain": [
              "Neutro      345\n",
              "Negativo     82\n",
              "Positivo     26\n",
              "Name: Sentimento_Final, dtype: int64"
            ]
          },
          "metadata": {},
          "execution_count": 281
        }
      ]
    },
    {
      "cell_type": "code",
      "source": [
        "plt.figure(figsize=(20,5))\n",
        "sns.countplot(y='Sentimento_Final',data=dataframe_sentimento)"
      ],
      "metadata": {
        "colab": {
          "base_uri": "https://localhost:8080/",
          "height": 351
        },
        "id": "zyTNfcw6aYlt",
        "outputId": "954909ff-3fc4-4145-d504-336c7c8ab653"
      },
      "execution_count": 282,
      "outputs": [
        {
          "output_type": "execute_result",
          "data": {
            "text/plain": [
              "<matplotlib.axes._subplots.AxesSubplot at 0x7f98bd7ed650>"
            ]
          },
          "metadata": {},
          "execution_count": 282
        },
        {
          "output_type": "display_data",
          "data": {
            "text/plain": [
              "<Figure size 1440x360 with 1 Axes>"
            ],
            "image/png": "[encoded data removed]"
          },
          "metadata": {
            "needs_background": "light"
          }
        }
      ]
    },
    {
      "cell_type": "markdown",
      "source": [
        "###Lula"
      ],
      "metadata": {
        "id": "-GZ6-_sfgunf"
      }
    },
    {
      "cell_type": "code",
      "source": [
        "resultado_filtro_lula = dataframe_sentimento[dataframe_sentimento['Candidato']=='Lula']"
      ],
      "metadata": {
        "id": "hzBxsFDPgGGo"
      },
      "execution_count": 283,
      "outputs": []
    },
    {
      "cell_type": "code",
      "source": [
        "resultado_filtro_lula['Candidato'].unique()\n"
      ],
      "metadata": {
        "colab": {
          "base_uri": "https://localhost:8080/"
        },
        "id": "mfk7N4W_hSsW",
        "outputId": "b0aaa04d-d0bd-42c1-f29f-f882e9381db7"
      },
      "execution_count": 284,
      "outputs": [
        {
          "output_type": "execute_result",
          "data": {
            "text/plain": [
              "array(['Lula'], dtype=object)"
            ]
          },
          "metadata": {},
          "execution_count": 284
        }
      ]
    },
    {
      "cell_type": "code",
      "source": [
        "plt.figure(figsize=(20,5))\n",
        "sns.countplot(y='Sentimento_Final',data=resultado_filtro_lula)"
      ],
      "metadata": {
        "colab": {
          "base_uri": "https://localhost:8080/",
          "height": 351
        },
        "id": "-v_fpKBDhW3j",
        "outputId": "6b4428d8-836b-4199-cb91-c828dd6ca304"
      },
      "execution_count": 285,
      "outputs": [
        {
          "output_type": "execute_result",
          "data": {
            "text/plain": [
              "<matplotlib.axes._subplots.AxesSubplot at 0x7f98b98334d0>"
            ]
          },
          "metadata": {},
          "execution_count": 285
        },
        {
          "output_type": "display_data",
          "data": {
            "text/plain": [
              "<Figure size 1440x360 with 1 Axes>"
            ],
            "image/png": "[encoded data removed]"
          },
          "metadata": {
            "needs_background": "light"
          }
        }
      ]
    },
    {
      "cell_type": "markdown",
      "source": [
        "###Bolsonaro"
      ],
      "metadata": {
        "id": "G4XQRGUOh7Ek"
      }
    },
    {
      "cell_type": "code",
      "source": [
        "resultado_filtro_bolsonaro = dataframe_sentimento[dataframe_sentimento['Candidato']=='Bolsonaro']"
      ],
      "metadata": {
        "id": "3kg8t19qh2wG"
      },
      "execution_count": 286,
      "outputs": []
    },
    {
      "cell_type": "code",
      "source": [
        "resultado_filtro_bolsonaro['Candidato'].unique()"
      ],
      "metadata": {
        "colab": {
          "base_uri": "https://localhost:8080/"
        },
        "id": "5M4-eq3NiGDU",
        "outputId": "91372e02-eded-4551-f48f-0a4e3808a57e"
      },
      "execution_count": 287,
      "outputs": [
        {
          "output_type": "execute_result",
          "data": {
            "text/plain": [
              "array(['Bolsonaro'], dtype=object)"
            ]
          },
          "metadata": {},
          "execution_count": 287
        }
      ]
    },
    {
      "cell_type": "code",
      "source": [
        "plt.figure(figsize=(20,5))\n",
        "sns.countplot(y='Sentimento_Final',data=resultado_filtro_bolsonaro)"
      ],
      "metadata": {
        "colab": {
          "base_uri": "https://localhost:8080/",
          "height": 351
        },
        "id": "zXzP0CHqiIod",
        "outputId": "217bd8a0-c021-462c-e7d6-5cfbf6f7170f"
      },
      "execution_count": 288,
      "outputs": [
        {
          "output_type": "execute_result",
          "data": {
            "text/plain": [
              "<matplotlib.axes._subplots.AxesSubplot at 0x7f98b9ae8610>"
            ]
          },
          "metadata": {},
          "execution_count": 288
        },
        {
          "output_type": "display_data",
          "data": {
            "text/plain": [
              "<Figure size 1440x360 with 1 Axes>"
            ],
            "image/png": "[encoded data removed]"
          },
          "metadata": {
            "needs_background": "light"
          }
        }
      ]
    },
    {
      "cell_type": "markdown",
      "source": [
        "###Ciro"
      ],
      "metadata": {
        "id": "RYkavYJwiVi-"
      }
    },
    {
      "cell_type": "code",
      "source": [
        "resultado_filtro_ciro = dataframe_sentimento[dataframe_sentimento['Candidato']=='Ciro']"
      ],
      "metadata": {
        "id": "xrlcgN6aiUZJ"
      },
      "execution_count": 289,
      "outputs": []
    },
    {
      "cell_type": "code",
      "source": [
        "resultado_filtro_ciro['Candidato'].unique()"
      ],
      "metadata": {
        "colab": {
          "base_uri": "https://localhost:8080/"
        },
        "id": "dWI654agiSlQ",
        "outputId": "489413ca-5ec4-4f0c-912e-6e42ba19d3b3"
      },
      "execution_count": 290,
      "outputs": [
        {
          "output_type": "execute_result",
          "data": {
            "text/plain": [
              "array(['Ciro'], dtype=object)"
            ]
          },
          "metadata": {},
          "execution_count": 290
        }
      ]
    },
    {
      "cell_type": "code",
      "source": [
        "plt.figure(figsize=(20,5))\n",
        "sns.countplot(y='Sentimento_Final',data=resultado_filtro_ciro)"
      ],
      "metadata": {
        "colab": {
          "base_uri": "https://localhost:8080/",
          "height": 351
        },
        "id": "Qjc-AUPWimei",
        "outputId": "8339852d-b0d3-48e6-cbce-ad0b77161439"
      },
      "execution_count": 291,
      "outputs": [
        {
          "output_type": "execute_result",
          "data": {
            "text/plain": [
              "<matplotlib.axes._subplots.AxesSubplot at 0x7f98b98d30d0>"
            ]
          },
          "metadata": {},
          "execution_count": 291
        },
        {
          "output_type": "display_data",
          "data": {
            "text/plain": [
              "<Figure size 1440x360 with 1 Axes>"
            ],
            "image/png": "[encoded data removed]"
          },
          "metadata": {
            "needs_background": "light"
          }
        }
      ]
    },
    {
      "cell_type": "code",
      "source": [
        "dataframe_final =dataframe_sentimento[['Data_hora','idTweet','Tweet','Candidato','Tweet_limpo','Sentimento_Final']]"
      ],
      "metadata": {
        "id": "rmgRZ1dAioSk"
      },
      "execution_count": 292,
      "outputs": []
    },
    {
      "cell_type": "code",
      "source": [
        "dataframe_final.head()"
      ],
      "metadata": {
        "colab": {
          "base_uri": "https://localhost:8080/",
          "height": 206
        },
        "id": "f8YMRqxQmPdP",
        "outputId": "be38f755-ec55-4333-f875-b63773cc9224"
      },
      "execution_count": 293,
      "outputs": [
        {
          "output_type": "execute_result",
          "data": {
            "text/plain": [
              "                   Data_hora              idTweet  \\\n",
              "0  2022-07-31 08:41:01+00:00  1553662000097644546   \n",
              "1  2022-07-31 08:40:56+00:00  1553661978626899968   \n",
              "2  2022-07-31 08:40:49+00:00  1553661949694590977   \n",
              "3  2022-07-31 08:40:44+00:00  1553661931575054336   \n",
              "4  2022-07-31 08:40:32+00:00  1553661881889464320   \n",
              "\n",
              "                                               Tweet Candidato  \\\n",
              "0  @brasildefato LULA COMPRADO ALCKEMIN https://t...      Lula   \n",
              "1  @senadorhumberto @CamiloSantanaCE @elmanofreit...      Lula   \n",
              "2  @LulaOficial PQP o cara tem q ser muito idiota...      Lula   \n",
              "3  @kazuhaC1G1P1 HY LULAAA. Kalo gua sukanya film...      Lula   \n",
              "4  @Rocha7591 E a do Lula não põe ?? 73.000,00 po...      Lula   \n",
              "\n",
              "                                         Tweet_limpo Sentimento_Final  \n",
              "0  @brasildefato lula comprado alckemin https://t...           Neutro  \n",
              "1  @senadorhumberto @camilosantanace @elmanofreit...           Neutro  \n",
              "2  @lulaoficial pqp o cara tem q ser muito idiota...         Negativo  \n",
              "3  @kazuhac1g1p1 hy lulaaa. kalo gua sukanya film...         Negativo  \n",
              "4  @rocha7591 e a do lula não põe ?? 73.000,00 po...           Neutro  "
            ],
            "text/html": [
              "\n",
              "  <div id=\"df-f36a5c7c-7515-4eef-b9bb-21e2068e717d\">\n",
              "    <div class=\"colab-df-container\">\n",
              "      <div>\n",
              "<style scoped>\n",
              "    .dataframe tbody tr th:only-of-type {\n",
              "        vertical-align: middle;\n",
              "    }\n",
              "\n",
              "    .dataframe tbody tr th {\n",
              "        vertical-align: top;\n",
              "    }\n",
              "\n",
              "    .dataframe thead th {\n",
              "        text-align: right;\n",
              "    }\n",
              "</style>\n",
              "<table border=\"1\" class=\"dataframe\">\n",
              "  <thead>\n",
              "    <tr style=\"text-align: right;\">\n",
              "      <th></th>\n",
              "      <th>Data_hora</th>\n",
              "      <th>idTweet</th>\n",
              "      <th>Tweet</th>\n",
              "      <th>Candidato</th>\n",
              "      <th>Tweet_limpo</th>\n",
              "      <th>Sentimento_Final</th>\n",
              "    </tr>\n",
              "  </thead>\n",
              "  <tbody>\n",
              "    <tr>\n",
              "      <th>0</th>\n",
              "      <td>2022-07-31 08:41:01+00:00</td>\n",
              "      <td>1553662000097644546</td>\n",
              "      <td>@brasildefato LULA COMPRADO ALCKEMIN https://t...</td>\n",
              "      <td>Lula</td>\n",
              "      <td>@brasildefato lula comprado alckemin https://t...</td>\n",
              "      <td>Neutro</td>\n",
              "    </tr>\n",
              "    <tr>\n",
              "      <th>1</th>\n",
              "      <td>2022-07-31 08:40:56+00:00</td>\n",
              "      <td>1553661978626899968</td>\n",
              "      <td>@senadorhumberto @CamiloSantanaCE @elmanofreit...</td>\n",
              "      <td>Lula</td>\n",
              "      <td>@senadorhumberto @camilosantanace @elmanofreit...</td>\n",
              "      <td>Neutro</td>\n",
              "    </tr>\n",
              "    <tr>\n",
              "      <th>2</th>\n",
              "      <td>2022-07-31 08:40:49+00:00</td>\n",
              "      <td>1553661949694590977</td>\n",
              "      <td>@LulaOficial PQP o cara tem q ser muito idiota...</td>\n",
              "      <td>Lula</td>\n",
              "      <td>@lulaoficial pqp o cara tem q ser muito idiota...</td>\n",
              "      <td>Negativo</td>\n",
              "    </tr>\n",
              "    <tr>\n",
              "      <th>3</th>\n",
              "      <td>2022-07-31 08:40:44+00:00</td>\n",
              "      <td>1553661931575054336</td>\n",
              "      <td>@kazuhaC1G1P1 HY LULAAA. Kalo gua sukanya film...</td>\n",
              "      <td>Lula</td>\n",
              "      <td>@kazuhac1g1p1 hy lulaaa. kalo gua sukanya film...</td>\n",
              "      <td>Negativo</td>\n",
              "    </tr>\n",
              "    <tr>\n",
              "      <th>4</th>\n",
              "      <td>2022-07-31 08:40:32+00:00</td>\n",
              "      <td>1553661881889464320</td>\n",
              "      <td>@Rocha7591 E a do Lula não põe ?? 73.000,00 po...</td>\n",
              "      <td>Lula</td>\n",
              "      <td>@rocha7591 e a do lula não põe ?? 73.000,00 po...</td>\n",
              "      <td>Neutro</td>\n",
              "    </tr>\n",
              "  </tbody>\n",
              "</table>\n",
              "</div>\n",
              "      <button class=\"colab-df-convert\" onclick=\"convertToInteractive('df-f36a5c7c-7515-4eef-b9bb-21e2068e717d')\"\n",
              "              title=\"Convert this dataframe to an interactive table.\"\n",
              "              style=\"display:none;\">\n",
              "        \n",
              "  <svg xmlns=\"http://www.w3.org/2000/svg\" height=\"24px\"viewBox=\"0 0 24 24\"\n",
              "       width=\"24px\">\n",
              "    <path d=\"M0 0h24v24H0V0z\" fill=\"none\"/>\n",
              "    <path d=\"M18.56 5.44l.94 2.06.94-2.06 2.06-.94-2.06-.94-.94-2.06-.94 2.06-2.06.94zm-11 1L8.5 8.5l.94-2.06 2.06-.94-2.06-.94L8.5 2.5l-.94 2.06-2.06.94zm10 10l.94 2.06.94-2.06 2.06-.94-2.06-.94-.94-2.06-.94 2.06-2.06.94z\"/><path d=\"M17.41 7.96l-1.37-1.37c-.4-.4-.92-.59-1.43-.59-.52 0-1.04.2-1.43.59L10.3 9.45l-7.72 7.72c-.78.78-.78 2.05 0 2.83L4 21.41c.39.39.9.59 1.41.59.51 0 1.02-.2 1.41-.59l7.78-7.78 2.81-2.81c.8-.78.8-2.07 0-2.86zM5.41 20L4 18.59l7.72-7.72 1.47 1.35L5.41 20z\"/>\n",
              "  </svg>\n",
              "      </button>\n",
              "      \n",
              "  <style>\n",
              "    .colab-df-container {\n",
              "      display:flex;\n",
              "      flex-wrap:wrap;\n",
              "      gap: 12px;\n",
              "    }\n",
              "\n",
              "    .colab-df-convert {\n",
              "      background-color: #E8F0FE;\n",
              "      border: none;\n",
              "      border-radius: 50%;\n",
              "      cursor: pointer;\n",
              "      display: none;\n",
              "      fill: #1967D2;\n",
              "      height: 32px;\n",
              "      padding: 0 0 0 0;\n",
              "      width: 32px;\n",
              "    }\n",
              "\n",
              "    .colab-df-convert:hover {\n",
              "      background-color: #E2EBFA;\n",
              "      box-shadow: 0px 1px 2px rgba(60, 64, 67, 0.3), 0px 1px 3px 1px rgba(60, 64, 67, 0.15);\n",
              "      fill: #174EA6;\n",
              "    }\n",
              "\n",
              "    [theme=dark] .colab-df-convert {\n",
              "      background-color: #3B4455;\n",
              "      fill: #D2E3FC;\n",
              "    }\n",
              "\n",
              "    [theme=dark] .colab-df-convert:hover {\n",
              "      background-color: #434B5C;\n",
              "      box-shadow: 0px 1px 3px 1px rgba(0, 0, 0, 0.15);\n",
              "      filter: drop-shadow(0px 1px 2px rgba(0, 0, 0, 0.3));\n",
              "      fill: #FFFFFF;\n",
              "    }\n",
              "  </style>\n",
              "\n",
              "      <script>\n",
              "        const buttonEl =\n",
              "          document.querySelector('#df-f36a5c7c-7515-4eef-b9bb-21e2068e717d button.colab-df-convert');\n",
              "        buttonEl.style.display =\n",
              "          google.colab.kernel.accessAllowed ? 'block' : 'none';\n",
              "\n",
              "        async function convertToInteractive(key) {\n",
              "          const element = document.querySelector('#df-f36a5c7c-7515-4eef-b9bb-21e2068e717d');\n",
              "          const dataTable =\n",
              "            await google.colab.kernel.invokeFunction('convertToInteractive',\n",
              "                                                     [key], {});\n",
              "          if (!dataTable) return;\n",
              "\n",
              "          const docLinkHtml = 'Like what you see? Visit the ' +\n",
              "            '<a target=\"_blank\" href=https://colab.research.google.com/notebooks/data_table.ipynb>data table notebook</a>'\n",
              "            + ' to learn more about interactive tables.';\n",
              "          element.innerHTML = '';\n",
              "          dataTable['output_type'] = 'display_data';\n",
              "          await google.colab.output.renderOutput(dataTable, element);\n",
              "          const docLink = document.createElement('div');\n",
              "          docLink.innerHTML = docLinkHtml;\n",
              "          element.appendChild(docLink);\n",
              "        }\n",
              "      </script>\n",
              "    </div>\n",
              "  </div>\n",
              "  "
            ]
          },
          "metadata": {},
          "execution_count": 293
        }
      ]
    },
    {
      "cell_type": "code",
      "source": [
        "dataframe_final.to_csv('dataframe_final.csv',sep=',', index=False)"
      ],
      "metadata": {
        "id": "P_gswoItn5VH"
      },
      "execution_count": 294,
      "outputs": []
    }
  ]
}